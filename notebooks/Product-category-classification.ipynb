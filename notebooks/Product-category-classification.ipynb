{
 "cells": [
  {
   "cell_type": "markdown",
   "id": "738bb292",
   "metadata": {},
   "source": [
    "# Product Category Classification with DistilBERT\n",
    "*Fine-tuning a transformer to classify e-commerce product descriptions*"
   ]
  }
 ],
 "metadata": {
  "language_info": {
   "name": "python"
  }
 },
 "nbformat": 4,
 "nbformat_minor": 5
}
