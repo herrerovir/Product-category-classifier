{
    "cells": [
        {
            "cell_type": "markdown",
            "id": "738bb292",
            "metadata": {
                "id": "738bb292"
            },
            "source": [
                "# Product Category Classification with DistilBERT\n",
                "*Fine-tuning a transformer to classify e-commerce product descriptions*"
            ]
        },
        {
            "cell_type": "markdown",
            "id": "748abfa7",
            "metadata": {
                "id": "748abfa7"
            },
            "source": [
                "## Import Libraries\n",
                "\n",
                "Libraries required for data processing and modeling are imported."
            ]
        },
        {
            "cell_type": "markdown",
            "id": "jRrJxF4qfnA7",
            "metadata": {
                "id": "jRrJxF4qfnA7"
            },
            "source": [
                "This project runs in Google Colab to make use of the free GPU support.\n",
                "Start by mounting Google Drive to access the project files. If this is your first time running the project, clone the repository. Otherwise, pull the latest changes to stay up to date.\n",
                "Once that’s done, run the setup script to install any dependencies and make sure the environment is ready to go."
            ]
        },
        {
            "cell_type": "code",
            "execution_count": 1,
            "id": "GlolhzsPbwrc",
            "metadata": {
                "colab": {
                    "base_uri": "https://localhost:8080/"
                },
                "executionInfo": {
                    "elapsed": 24817,
                    "status": "ok",
                    "timestamp": 1755955755049,
                    "user": {
                        "displayName": "Virginia Herrero",
                        "userId": "16104809763584669928"
                    },
                    "user_tz": -120
                },
                "id": "GlolhzsPbwrc",
                "outputId": "007902e1-ec23-4e37-91c3-1f623ff3c8e3"
            },
            "outputs": [
                {
                    "name": "stdout",
                    "output_type": "stream",
                    "text": [
                        "Mounted at /content/drive\n"
                    ]
                }
            ],
            "source": [
                "# Mount Drive on colab manually\n",
                "from google.colab import drive\n",
                "drive.mount(\"/content/drive\")"
            ]
        },
        {
            "cell_type": "code",
            "execution_count": 2,
            "id": "vqRg4CRpcHJ1",
            "metadata": {
                "colab": {
                    "base_uri": "https://localhost:8080/"
                },
                "executionInfo": {
                    "elapsed": 27495,
                    "status": "ok",
                    "timestamp": 1755955782488,
                    "user": {
                        "displayName": "Virginia Herrero",
                        "userId": "16104809763584669928"
                    },
                    "user_tz": -120
                },
                "id": "vqRg4CRpcHJ1",
                "outputId": "f6c1269a-223e-45a6-fcfc-f2bb67f0ddd1"
            },
            "outputs": [
                {
                    "name": "stdout",
                    "output_type": "stream",
                    "text": [
                        "/content/drive/MyDrive/Colab_Projects/Product-category-classifier\n",
                        "Updating 0af5209..b68030d\n",
                        "error: Your local changes to the following files would be overwritten by merge:\n",
                        "\tnotebooks/Product-category-classification.ipynb\n",
                        "Please commit your changes or stash them before you merge.\n",
                        "error: The following untracked working tree files would be overwritten by merge:\n",
                        "\tfigures/distilBERT-model-confusion-matrix.png\n",
                        "\tfigures/product-category-distribution.png\n",
                        "\tresults/metrics/distilBERT-classification-report.txt\n",
                        "\tresults/metrics/distilBERT-model-evaluation-metrics.txt\n",
                        "\tresults/predictions/predictions_output.txt\n",
                        "Please move or remove them before you merge.\n",
                        "Aborting\n"
                    ]
                }
            ],
            "source": [
                "# If the repo doesn't exist in Google Drive, clone it\n",
                "# !git clone https://github.com/herrerovir/Product-category-classifier\n",
                "\n",
                "# If the repo does exist:\n",
                "%cd /content/drive/MyDrive/Colab_Projects/Product-category-classifier\n",
                "!git pull"
            ]
        },
        {
            "cell_type": "code",
            "execution_count": 3,
            "id": "x3tgX1r2Usw1",
            "metadata": {
                "colab": {
                    "base_uri": "https://localhost:8080/"
                },
                "executionInfo": {
                    "elapsed": 433,
                    "status": "ok",
                    "timestamp": 1755955782922,
                    "user": {
                        "displayName": "Virginia Herrero",
                        "userId": "16104809763584669928"
                    },
                    "user_tz": -120
                },
                "id": "x3tgX1r2Usw1",
                "outputId": "59667fb8-39ea-4d68-fe3d-3d37eecf0519"
            },
            "outputs": [
                {
                    "name": "stdout",
                    "output_type": "stream",
                    "text": [
                        "Working directory set to: /content/drive/MyDrive/Colab_Projects/Product-category-classifier/notebooks\n"
                    ]
                }
            ],
            "source": [
                "# Import colab_up file\n",
                "import colab_setup\n",
                "colab_setup.setup(subdir = \"notebooks\")\n",
                "from colab_setup import *"
            ]
        },
        {
            "cell_type": "code",
            "execution_count": 4,
            "id": "04f6714e",
            "metadata": {
                "colab": {
                    "base_uri": "https://localhost:8080/"
                },
                "executionInfo": {
                    "elapsed": 29992,
                    "status": "ok",
                    "timestamp": 1755955812925,
                    "user": {
                        "displayName": "Virginia Herrero",
                        "userId": "16104809763584669928"
                    },
                    "user_tz": -120
                },
                "id": "04f6714e",
                "outputId": "14d1d7f7-7b8a-433a-a6ee-7ac83c8b74e0"
            },
            "outputs": [
                {
                    "name": "stdout",
                    "output_type": "stream",
                    "text": [
                        "Collecting evaluate\n",
                        "  Downloading evaluate-0.4.5-py3-none-any.whl.metadata (9.5 kB)\n",
                        "Requirement already satisfied: datasets>=2.0.0 in /usr/local/lib/python3.12/dist-packages (from evaluate) (4.0.0)\n",
                        "Requirement already satisfied: numpy>=1.17 in /usr/local/lib/python3.12/dist-packages (from evaluate) (2.0.2)\n",
                        "Requirement already satisfied: dill in /usr/local/lib/python3.12/dist-packages (from evaluate) (0.3.8)\n",
                        "Requirement already satisfied: pandas in /usr/local/lib/python3.12/dist-packages (from evaluate) (2.2.2)\n",
                        "Requirement already satisfied: requests>=2.19.0 in /usr/local/lib/python3.12/dist-packages (from evaluate) (2.32.4)\n",
                        "Requirement already satisfied: tqdm>=4.62.1 in /usr/local/lib/python3.12/dist-packages (from evaluate) (4.67.1)\n",
                        "Requirement already satisfied: xxhash in /usr/local/lib/python3.12/dist-packages (from evaluate) (3.5.0)\n",
                        "Requirement already satisfied: multiprocess in /usr/local/lib/python3.12/dist-packages (from evaluate) (0.70.16)\n",
                        "Requirement already satisfied: fsspec>=2021.05.0 in /usr/local/lib/python3.12/dist-packages (from fsspec[http]>=2021.05.0->evaluate) (2025.3.0)\n",
                        "Requirement already satisfied: huggingface-hub>=0.7.0 in /usr/local/lib/python3.12/dist-packages (from evaluate) (0.34.4)\n",
                        "Requirement already satisfied: packaging in /usr/local/lib/python3.12/dist-packages (from evaluate) (25.0)\n",
                        "Requirement already satisfied: filelock in /usr/local/lib/python3.12/dist-packages (from datasets>=2.0.0->evaluate) (3.19.1)\n",
                        "Requirement already satisfied: pyarrow>=15.0.0 in /usr/local/lib/python3.12/dist-packages (from datasets>=2.0.0->evaluate) (18.1.0)\n",
                        "Requirement already satisfied: pyyaml>=5.1 in /usr/local/lib/python3.12/dist-packages (from datasets>=2.0.0->evaluate) (6.0.2)\n",
                        "Requirement already satisfied: aiohttp!=4.0.0a0,!=4.0.0a1 in /usr/local/lib/python3.12/dist-packages (from fsspec[http]>=2021.05.0->evaluate) (3.12.15)\n",
                        "Requirement already satisfied: typing-extensions>=3.7.4.3 in /usr/local/lib/python3.12/dist-packages (from huggingface-hub>=0.7.0->evaluate) (4.14.1)\n",
                        "Requirement already satisfied: hf-xet<2.0.0,>=1.1.3 in /usr/local/lib/python3.12/dist-packages (from huggingface-hub>=0.7.0->evaluate) (1.1.7)\n",
                        "Requirement already satisfied: charset_normalizer<4,>=2 in /usr/local/lib/python3.12/dist-packages (from requests>=2.19.0->evaluate) (3.4.3)\n",
                        "Requirement already satisfied: idna<4,>=2.5 in /usr/local/lib/python3.12/dist-packages (from requests>=2.19.0->evaluate) (3.10)\n",
                        "Requirement already satisfied: urllib3<3,>=1.21.1 in /usr/local/lib/python3.12/dist-packages (from requests>=2.19.0->evaluate) (2.5.0)\n",
                        "Requirement already satisfied: certifi>=2017.4.17 in /usr/local/lib/python3.12/dist-packages (from requests>=2.19.0->evaluate) (2025.8.3)\n",
                        "Requirement already satisfied: python-dateutil>=2.8.2 in /usr/local/lib/python3.12/dist-packages (from pandas->evaluate) (2.9.0.post0)\n",
                        "Requirement already satisfied: pytz>=2020.1 in /usr/local/lib/python3.12/dist-packages (from pandas->evaluate) (2025.2)\n",
                        "Requirement already satisfied: tzdata>=2022.7 in /usr/local/lib/python3.12/dist-packages (from pandas->evaluate) (2025.2)\n",
                        "Requirement already satisfied: aiohappyeyeballs>=2.5.0 in /usr/local/lib/python3.12/dist-packages (from aiohttp!=4.0.0a0,!=4.0.0a1->fsspec[http]>=2021.05.0->evaluate) (2.6.1)\n",
                        "Requirement already satisfied: aiosignal>=1.4.0 in /usr/local/lib/python3.12/dist-packages (from aiohttp!=4.0.0a0,!=4.0.0a1->fsspec[http]>=2021.05.0->evaluate) (1.4.0)\n",
                        "Requirement already satisfied: attrs>=17.3.0 in /usr/local/lib/python3.12/dist-packages (from aiohttp!=4.0.0a0,!=4.0.0a1->fsspec[http]>=2021.05.0->evaluate) (25.3.0)\n",
                        "Requirement already satisfied: frozenlist>=1.1.1 in /usr/local/lib/python3.12/dist-packages (from aiohttp!=4.0.0a0,!=4.0.0a1->fsspec[http]>=2021.05.0->evaluate) (1.7.0)\n",
                        "Requirement already satisfied: multidict<7.0,>=4.5 in /usr/local/lib/python3.12/dist-packages (from aiohttp!=4.0.0a0,!=4.0.0a1->fsspec[http]>=2021.05.0->evaluate) (6.6.4)\n",
                        "Requirement already satisfied: propcache>=0.2.0 in /usr/local/lib/python3.12/dist-packages (from aiohttp!=4.0.0a0,!=4.0.0a1->fsspec[http]>=2021.05.0->evaluate) (0.3.2)\n",
                        "Requirement already satisfied: yarl<2.0,>=1.17.0 in /usr/local/lib/python3.12/dist-packages (from aiohttp!=4.0.0a0,!=4.0.0a1->fsspec[http]>=2021.05.0->evaluate) (1.20.1)\n",
                        "Requirement already satisfied: six>=1.5 in /usr/local/lib/python3.12/dist-packages (from python-dateutil>=2.8.2->pandas->evaluate) (1.17.0)\n",
                        "Downloading evaluate-0.4.5-py3-none-any.whl (84 kB)\n",
                        "\u001b[2K   \u001b[90m━━━━━━━━━━━━━━━━━━━━━━━━━━━━━━━━━━━━━━━━\u001b[0m \u001b[32m84.1/84.1 kB\u001b[0m \u001b[31m4.1 MB/s\u001b[0m eta \u001b[36m0:00:00\u001b[0m\n",
                        "\u001b[?25hInstalling collected packages: evaluate\n",
                        "Successfully installed evaluate-0.4.5\n"
                    ]
                }
            ],
            "source": [
                "# Install dependencies\n",
                "!pip install evaluate\n",
                "\n",
                "# Utilities\n",
                "import re\n",
                "import torch\n",
                "import numpy as np\n",
                "import pandas as pd\n",
                "\n",
                "# Visualization\n",
                "import matplotlib.pyplot as plt\n",
                "import seaborn as sns\n",
                "\n",
                "# Modeling\n",
                "from sklearn.utils import shuffle\n",
                "from sklearn.model_selection import train_test_split\n",
                "from sklearn.metrics import confusion_matrix, ConfusionMatrixDisplay, classification_report\n",
                "\n",
                "# Hugging Face Transformers\n",
                "from transformers import (\n",
                "    AutoModelForSequenceClassification,\n",
                "    DistilBertTokenizer,\n",
                "    DataCollatorWithPadding,\n",
                "    TrainingArguments,\n",
                "    Trainer,\n",
                "    TextClassificationPipeline\n",
                ")\n",
                "import transformers\n",
                "\n",
                "# Datasets\n",
                "from datasets import Dataset, DatasetDict\n",
                "\n",
                "# Evaluation\n",
                "import evaluate"
            ]
        },
        {
            "cell_type": "markdown",
            "id": "08c5f0b2",
            "metadata": {
                "id": "08c5f0b2"
            },
            "source": [
                "## Data Loading\n",
                "\n",
                "The dataset is loaded from a CSV file into a pandas DataFrame."
            ]
        },
        {
            "cell_type": "code",
            "execution_count": 5,
            "id": "f63f9b90",
            "metadata": {
                "colab": {
                    "base_uri": "https://localhost:8080/",
                    "height": 345
                },
                "executionInfo": {
                    "elapsed": 777,
                    "status": "ok",
                    "timestamp": 1755955813688,
                    "user": {
                        "displayName": "Virginia Herrero",
                        "userId": "16104809763584669928"
                    },
                    "user_tz": -120
                },
                "id": "f63f9b90",
                "outputId": "b8708525-25c8-4aff-84d5-3f9fe1dad680"
            },
            "outputs": [
                {
                    "data": {
                        "application/vnd.google.colaboratory.intrinsic+json": {
                            "summary": "{\n  \"name\": \"data\",\n  \"rows\": 50424,\n  \"fields\": [\n    {\n      \"column\": \"Household\",\n      \"properties\": {\n        \"dtype\": \"category\",\n        \"num_unique_values\": 4,\n        \"samples\": [\n          \"Books\",\n          \"Electronics\",\n          \"Household\"\n        ],\n        \"semantic_type\": \"\",\n        \"description\": \"\"\n      }\n    },\n    {\n      \"column\": \"Paper Plane Design Framed Wall Hanging Motivational Office Decor Art Prints (8.7 X 8.7 inch) - Set of 4 Painting made up in synthetic frame with uv textured print which gives multi effects and attracts towards it. This is an special series of paintings which makes your wall very beautiful and gives a royal touch. This painting is ready to hang, you would be proud to possess this unique painting that is a niche apart. We use only the most modern and efficient printing technology on our prints, with only the and inks and precision epson, roland and hp printers. This innovative hd printing technique results in durable and spectacular looking prints of the highest that last a lifetime. We print solely with top-notch 100% inks, to achieve brilliant and true colours. Due to their high level of uv resistance, our prints retain their beautiful colours for many years. Add colour and style to your living space with this digitally printed painting. Some are for pleasure and some for eternal bliss.so bring home this elegant print that is lushed with rich colors that makes it nothing but sheer elegance to be to your friends and family.it would be treasured forever by whoever your lucky recipient is. Liven up your place with these intriguing paintings that are high definition hd graphic digital prints for home, office or any room.\",\n      \"properties\": {\n        \"dtype\": \"string\",\n        \"num_unique_values\": 27801,\n        \"samples\": [\n          \"AV2 Women Cotton Maternity/Feeding/Nursing Nightwear Set Relax at ease wearing this soft and comfortable maternity feeding nightwear set from AV2. It's surely going to be your favourite nightsuit. This capri length solid nightwear set comprises of tshirt with graphic print, short sleeve along with discreet zipper for nursing use, while capri is elasticated with drawstring and a side pocket, This top and capri ni can be worn for casual lounge wear as well as regular maternity wear.\",\n          \"Kitchen Utensil Kitchenware Curd Maker/Free Hand Blender for Egg & Cream Beater, Milkshake, Lassi, Butter Milk Mixer BeaterK Power Free Hand Blender Beating (Cream,Eggs,etc),Liquidizing(Tomato Soup, Dal etc),Churring(Milk Shake,Lassi Butter Milk etc.) Smoothly rotating gears are enclosed for protection and easy clean-up Non-slip grips on turning knob and contoured handle Non electrical, Handy and easy to operate Sturdy stainless steel Beaters can be removed easily for cleaning Beaters are elevated and continue to work while device rests on bottom of bowl Perfect for eggs, light batters, whipped cream\",\n          \"BEESCLOVER Mini Portable Handheld Lint Clothes Sweater Shaver Remover Dust Lint Remover for Fluff Fuzz Fabrics Black Manually Color Name:black   Description: Item type: Lint Remover Specification: Manual Dust Lint Remover Color: white, black Features -- Practical and reusable -- Easy to operate -- Easy operation Material: ABS Package includes: 1 x Dust Lint Remover Notes: 1-2mm error might exist due to manual measurements, please kindly understand. The colors deviation might differ due to different monitor settings.\"\n        ],\n        \"semantic_type\": \"\",\n        \"description\": \"\"\n      }\n    }\n  ]\n}",
                            "type": "dataframe",
                            "variable_name": "data"
                        },
                        "text/html": [
                            "\n",
                            "  <div id=\"df-d8a691fa-a6be-40ea-a7ae-268d6bcdac1f\" class=\"colab-df-container\">\n",
                            "    <div>\n",
                            "<style scoped>\n",
                            "    .dataframe tbody tr th:only-of-type {\n",
                            "        vertical-align: middle;\n",
                            "    }\n",
                            "\n",
                            "    .dataframe tbody tr th {\n",
                            "        vertical-align: top;\n",
                            "    }\n",
                            "\n",
                            "    .dataframe thead th {\n",
                            "        text-align: right;\n",
                            "    }\n",
                            "</style>\n",
                            "<table border=\"1\" class=\"dataframe\">\n",
                            "  <thead>\n",
                            "    <tr style=\"text-align: right;\">\n",
                            "      <th></th>\n",
                            "      <th>Household</th>\n",
                            "      <th>Paper Plane Design Framed Wall Hanging Motivational Office Decor Art Prints (8.7 X 8.7 inch) - Set of 4 Painting made up in synthetic frame with uv textured print which gives multi effects and attracts towards it. This is an special series of paintings which makes your wall very beautiful and gives a royal touch. This painting is ready to hang, you would be proud to possess this unique painting that is a niche apart. We use only the most modern and efficient printing technology on our prints, with only the and inks and precision epson, roland and hp printers. This innovative hd printing technique results in durable and spectacular looking prints of the highest that last a lifetime. We print solely with top-notch 100% inks, to achieve brilliant and true colours. Due to their high level of uv resistance, our prints retain their beautiful colours for many years. Add colour and style to your living space with this digitally printed painting. Some are for pleasure and some for eternal bliss.so bring home this elegant print that is lushed with rich colors that makes it nothing but sheer elegance to be to your friends and family.it would be treasured forever by whoever your lucky recipient is. Liven up your place with these intriguing paintings that are high definition hd graphic digital prints for home, office or any room.</th>\n",
                            "    </tr>\n",
                            "  </thead>\n",
                            "  <tbody>\n",
                            "    <tr>\n",
                            "      <th>0</th>\n",
                            "      <td>Household</td>\n",
                            "      <td>SAF 'Floral' Framed Painting (Wood, 30 inch x ...</td>\n",
                            "    </tr>\n",
                            "    <tr>\n",
                            "      <th>1</th>\n",
                            "      <td>Household</td>\n",
                            "      <td>SAF 'UV Textured Modern Art Print Framed' Pain...</td>\n",
                            "    </tr>\n",
                            "    <tr>\n",
                            "      <th>2</th>\n",
                            "      <td>Household</td>\n",
                            "      <td>SAF Flower Print Framed Painting (Synthetic, 1...</td>\n",
                            "    </tr>\n",
                            "    <tr>\n",
                            "      <th>3</th>\n",
                            "      <td>Household</td>\n",
                            "      <td>Incredible Gifts India Wooden Happy Birthday U...</td>\n",
                            "    </tr>\n",
                            "    <tr>\n",
                            "      <th>4</th>\n",
                            "      <td>Household</td>\n",
                            "      <td>Pitaara Box Romantic Venice Canvas Painting 6m...</td>\n",
                            "    </tr>\n",
                            "  </tbody>\n",
                            "</table>\n",
                            "</div>\n",
                            "    <div class=\"colab-df-buttons\">\n",
                            "\n",
                            "  <div class=\"colab-df-container\">\n",
                            "    <button class=\"colab-df-convert\" onclick=\"convertToInteractive('df-d8a691fa-a6be-40ea-a7ae-268d6bcdac1f')\"\n",
                            "            title=\"Convert this dataframe to an interactive table.\"\n",
                            "            style=\"display:none;\">\n",
                            "\n",
                            "  <svg xmlns=\"http://www.w3.org/2000/svg\" height=\"24px\" viewBox=\"0 -960 960 960\">\n",
                            "    <path d=\"M120-120v-720h720v720H120Zm60-500h600v-160H180v160Zm220 220h160v-160H400v160Zm0 220h160v-160H400v160ZM180-400h160v-160H180v160Zm440 0h160v-160H620v160ZM180-180h160v-160H180v160Zm440 0h160v-160H620v160Z\"/>\n",
                            "  </svg>\n",
                            "    </button>\n",
                            "\n",
                            "  <style>\n",
                            "    .colab-df-container {\n",
                            "      display:flex;\n",
                            "      gap: 12px;\n",
                            "    }\n",
                            "\n",
                            "    .colab-df-convert {\n",
                            "      background-color: #E8F0FE;\n",
                            "      border: none;\n",
                            "      border-radius: 50%;\n",
                            "      cursor: pointer;\n",
                            "      display: none;\n",
                            "      fill: #1967D2;\n",
                            "      height: 32px;\n",
                            "      padding: 0 0 0 0;\n",
                            "      width: 32px;\n",
                            "    }\n",
                            "\n",
                            "    .colab-df-convert:hover {\n",
                            "      background-color: #E2EBFA;\n",
                            "      box-shadow: 0px 1px 2px rgba(60, 64, 67, 0.3), 0px 1px 3px 1px rgba(60, 64, 67, 0.15);\n",
                            "      fill: #174EA6;\n",
                            "    }\n",
                            "\n",
                            "    .colab-df-buttons div {\n",
                            "      margin-bottom: 4px;\n",
                            "    }\n",
                            "\n",
                            "    [theme=dark] .colab-df-convert {\n",
                            "      background-color: #3B4455;\n",
                            "      fill: #D2E3FC;\n",
                            "    }\n",
                            "\n",
                            "    [theme=dark] .colab-df-convert:hover {\n",
                            "      background-color: #434B5C;\n",
                            "      box-shadow: 0px 1px 3px 1px rgba(0, 0, 0, 0.15);\n",
                            "      filter: drop-shadow(0px 1px 2px rgba(0, 0, 0, 0.3));\n",
                            "      fill: #FFFFFF;\n",
                            "    }\n",
                            "  </style>\n",
                            "\n",
                            "    <script>\n",
                            "      const buttonEl =\n",
                            "        document.querySelector('#df-d8a691fa-a6be-40ea-a7ae-268d6bcdac1f button.colab-df-convert');\n",
                            "      buttonEl.style.display =\n",
                            "        google.colab.kernel.accessAllowed ? 'block' : 'none';\n",
                            "\n",
                            "      async function convertToInteractive(key) {\n",
                            "        const element = document.querySelector('#df-d8a691fa-a6be-40ea-a7ae-268d6bcdac1f');\n",
                            "        const dataTable =\n",
                            "          await google.colab.kernel.invokeFunction('convertToInteractive',\n",
                            "                                                    [key], {});\n",
                            "        if (!dataTable) return;\n",
                            "\n",
                            "        const docLinkHtml = 'Like what you see? Visit the ' +\n",
                            "          '<a target=\"_blank\" href=https://colab.research.google.com/notebooks/data_table.ipynb>data table notebook</a>'\n",
                            "          + ' to learn more about interactive tables.';\n",
                            "        element.innerHTML = '';\n",
                            "        dataTable['output_type'] = 'display_data';\n",
                            "        await google.colab.output.renderOutput(dataTable, element);\n",
                            "        const docLink = document.createElement('div');\n",
                            "        docLink.innerHTML = docLinkHtml;\n",
                            "        element.appendChild(docLink);\n",
                            "      }\n",
                            "    </script>\n",
                            "  </div>\n",
                            "\n",
                            "\n",
                            "    <div id=\"df-270f8735-b6f8-4a35-a58a-e2bdb5730c95\">\n",
                            "      <button class=\"colab-df-quickchart\" onclick=\"quickchart('df-270f8735-b6f8-4a35-a58a-e2bdb5730c95')\"\n",
                            "                title=\"Suggest charts\"\n",
                            "                style=\"display:none;\">\n",
                            "\n",
                            "<svg xmlns=\"http://www.w3.org/2000/svg\" height=\"24px\"viewBox=\"0 0 24 24\"\n",
                            "     width=\"24px\">\n",
                            "    <g>\n",
                            "        <path d=\"M19 3H5c-1.1 0-2 .9-2 2v14c0 1.1.9 2 2 2h14c1.1 0 2-.9 2-2V5c0-1.1-.9-2-2-2zM9 17H7v-7h2v7zm4 0h-2V7h2v10zm4 0h-2v-4h2v4z\"/>\n",
                            "    </g>\n",
                            "</svg>\n",
                            "      </button>\n",
                            "\n",
                            "<style>\n",
                            "  .colab-df-quickchart {\n",
                            "      --bg-color: #E8F0FE;\n",
                            "      --fill-color: #1967D2;\n",
                            "      --hover-bg-color: #E2EBFA;\n",
                            "      --hover-fill-color: #174EA6;\n",
                            "      --disabled-fill-color: #AAA;\n",
                            "      --disabled-bg-color: #DDD;\n",
                            "  }\n",
                            "\n",
                            "  [theme=dark] .colab-df-quickchart {\n",
                            "      --bg-color: #3B4455;\n",
                            "      --fill-color: #D2E3FC;\n",
                            "      --hover-bg-color: #434B5C;\n",
                            "      --hover-fill-color: #FFFFFF;\n",
                            "      --disabled-bg-color: #3B4455;\n",
                            "      --disabled-fill-color: #666;\n",
                            "  }\n",
                            "\n",
                            "  .colab-df-quickchart {\n",
                            "    background-color: var(--bg-color);\n",
                            "    border: none;\n",
                            "    border-radius: 50%;\n",
                            "    cursor: pointer;\n",
                            "    display: none;\n",
                            "    fill: var(--fill-color);\n",
                            "    height: 32px;\n",
                            "    padding: 0;\n",
                            "    width: 32px;\n",
                            "  }\n",
                            "\n",
                            "  .colab-df-quickchart:hover {\n",
                            "    background-color: var(--hover-bg-color);\n",
                            "    box-shadow: 0 1px 2px rgba(60, 64, 67, 0.3), 0 1px 3px 1px rgba(60, 64, 67, 0.15);\n",
                            "    fill: var(--button-hover-fill-color);\n",
                            "  }\n",
                            "\n",
                            "  .colab-df-quickchart-complete:disabled,\n",
                            "  .colab-df-quickchart-complete:disabled:hover {\n",
                            "    background-color: var(--disabled-bg-color);\n",
                            "    fill: var(--disabled-fill-color);\n",
                            "    box-shadow: none;\n",
                            "  }\n",
                            "\n",
                            "  .colab-df-spinner {\n",
                            "    border: 2px solid var(--fill-color);\n",
                            "    border-color: transparent;\n",
                            "    border-bottom-color: var(--fill-color);\n",
                            "    animation:\n",
                            "      spin 1s steps(1) infinite;\n",
                            "  }\n",
                            "\n",
                            "  @keyframes spin {\n",
                            "    0% {\n",
                            "      border-color: transparent;\n",
                            "      border-bottom-color: var(--fill-color);\n",
                            "      border-left-color: var(--fill-color);\n",
                            "    }\n",
                            "    20% {\n",
                            "      border-color: transparent;\n",
                            "      border-left-color: var(--fill-color);\n",
                            "      border-top-color: var(--fill-color);\n",
                            "    }\n",
                            "    30% {\n",
                            "      border-color: transparent;\n",
                            "      border-left-color: var(--fill-color);\n",
                            "      border-top-color: var(--fill-color);\n",
                            "      border-right-color: var(--fill-color);\n",
                            "    }\n",
                            "    40% {\n",
                            "      border-color: transparent;\n",
                            "      border-right-color: var(--fill-color);\n",
                            "      border-top-color: var(--fill-color);\n",
                            "    }\n",
                            "    60% {\n",
                            "      border-color: transparent;\n",
                            "      border-right-color: var(--fill-color);\n",
                            "    }\n",
                            "    80% {\n",
                            "      border-color: transparent;\n",
                            "      border-right-color: var(--fill-color);\n",
                            "      border-bottom-color: var(--fill-color);\n",
                            "    }\n",
                            "    90% {\n",
                            "      border-color: transparent;\n",
                            "      border-bottom-color: var(--fill-color);\n",
                            "    }\n",
                            "  }\n",
                            "</style>\n",
                            "\n",
                            "      <script>\n",
                            "        async function quickchart(key) {\n",
                            "          const quickchartButtonEl =\n",
                            "            document.querySelector('#' + key + ' button');\n",
                            "          quickchartButtonEl.disabled = true;  // To prevent multiple clicks.\n",
                            "          quickchartButtonEl.classList.add('colab-df-spinner');\n",
                            "          try {\n",
                            "            const charts = await google.colab.kernel.invokeFunction(\n",
                            "                'suggestCharts', [key], {});\n",
                            "          } catch (error) {\n",
                            "            console.error('Error during call to suggestCharts:', error);\n",
                            "          }\n",
                            "          quickchartButtonEl.classList.remove('colab-df-spinner');\n",
                            "          quickchartButtonEl.classList.add('colab-df-quickchart-complete');\n",
                            "        }\n",
                            "        (() => {\n",
                            "          let quickchartButtonEl =\n",
                            "            document.querySelector('#df-270f8735-b6f8-4a35-a58a-e2bdb5730c95 button');\n",
                            "          quickchartButtonEl.style.display =\n",
                            "            google.colab.kernel.accessAllowed ? 'block' : 'none';\n",
                            "        })();\n",
                            "      </script>\n",
                            "    </div>\n",
                            "\n",
                            "    </div>\n",
                            "  </div>\n"
                        ],
                        "text/plain": [
                            "   Household  \\\n",
                            "0  Household   \n",
                            "1  Household   \n",
                            "2  Household   \n",
                            "3  Household   \n",
                            "4  Household   \n",
                            "\n",
                            "  Paper Plane Design Framed Wall Hanging Motivational Office Decor Art Prints (8.7 X 8.7 inch) - Set of 4 Painting made up in synthetic frame with uv textured print which gives multi effects and attracts towards it. This is an special series of paintings which makes your wall very beautiful and gives a royal touch. This painting is ready to hang, you would be proud to possess this unique painting that is a niche apart. We use only the most modern and efficient printing technology on our prints, with only the and inks and precision epson, roland and hp printers. This innovative hd printing technique results in durable and spectacular looking prints of the highest that last a lifetime. We print solely with top-notch 100% inks, to achieve brilliant and true colours. Due to their high level of uv resistance, our prints retain their beautiful colours for many years. Add colour and style to your living space with this digitally printed painting. Some are for pleasure and some for eternal bliss.so bring home this elegant print that is lushed with rich colors that makes it nothing but sheer elegance to be to your friends and family.it would be treasured forever by whoever your lucky recipient is. Liven up your place with these intriguing paintings that are high definition hd graphic digital prints for home, office or any room.  \n",
                            "0  SAF 'Floral' Framed Painting (Wood, 30 inch x ...                                                                                                                                                                                                                                                                                                                                                                                                                                                                                                                                                                                                                                                                                                                                                                                                                                                                                                                                                                                                                                                                                                                                                                                                                                                                                                                                          \n",
                            "1  SAF 'UV Textured Modern Art Print Framed' Pain...                                                                                                                                                                                                                                                                                                                                                                                                                                                                                                                                                                                                                                                                                                                                                                                                                                                                                                                                                                                                                                                                                                                                                                                                                                                                                                                                          \n",
                            "2  SAF Flower Print Framed Painting (Synthetic, 1...                                                                                                                                                                                                                                                                                                                                                                                                                                                                                                                                                                                                                                                                                                                                                                                                                                                                                                                                                                                                                                                                                                                                                                                                                                                                                                                                          \n",
                            "3  Incredible Gifts India Wooden Happy Birthday U...                                                                                                                                                                                                                                                                                                                                                                                                                                                                                                                                                                                                                                                                                                                                                                                                                                                                                                                                                                                                                                                                                                                                                                                                                                                                                                                                          \n",
                            "4  Pitaara Box Romantic Venice Canvas Painting 6m...                                                                                                                                                                                                                                                                                                                                                                                                                                                                                                                                                                                                                                                                                                                                                                                                                                                                                                                                                                                                                                                                                                                                                                                                                                                                                                                                          "
                        ]
                    },
                    "execution_count": 5,
                    "metadata": {},
                    "output_type": "execute_result"
                }
            ],
            "source": [
                "data = pd.read_csv(RAW_DIR / \"ecomm_data.csv\")\n",
                "data.head()"
            ]
        },
        {
            "cell_type": "code",
            "execution_count": 6,
            "id": "18408e90",
            "metadata": {
                "colab": {
                    "base_uri": "https://localhost:8080/"
                },
                "executionInfo": {
                    "elapsed": 221,
                    "status": "ok",
                    "timestamp": 1755955813692,
                    "user": {
                        "displayName": "Virginia Herrero",
                        "userId": "16104809763584669928"
                    },
                    "user_tz": -120
                },
                "id": "18408e90",
                "outputId": "c00219c8-a277-4bb4-b9c6-17174fafe08c"
            },
            "outputs": [
                {
                    "name": "stdout",
                    "output_type": "stream",
                    "text": [
                        "Original dataset shape: (50424, 2)\n"
                    ]
                }
            ],
            "source": [
                "print(f\"Original dataset shape: {data.shape}\")"
            ]
        },
        {
            "cell_type": "markdown",
            "id": "neHarsDjtcc0",
            "metadata": {
                "id": "neHarsDjtcc0"
            },
            "source": [
                "## Data Cleaning\n",
                "\n",
                "Cleaning steps include renaming columns for consistency, removing null values, and dropping duplicate rows to ensure data quality before modeling."
            ]
        },
        {
            "cell_type": "code",
            "execution_count": 7,
            "id": "211cd881",
            "metadata": {
                "colab": {
                    "base_uri": "https://localhost:8080/"
                },
                "executionInfo": {
                    "elapsed": 131,
                    "status": "ok",
                    "timestamp": 1755955813695,
                    "user": {
                        "displayName": "Virginia Herrero",
                        "userId": "16104809763584669928"
                    },
                    "user_tz": -120
                },
                "id": "211cd881",
                "outputId": "a5f83010-98cf-45ab-dc7c-c89f0bfbb00c"
            },
            "outputs": [
                {
                    "name": "stdout",
                    "output_type": "stream",
                    "text": [
                        "<class 'pandas.core.frame.DataFrame'>\n",
                        "RangeIndex: 50424 entries, 0 to 50423\n",
                        "Data columns (total 2 columns):\n",
                        " #   Column                                                                                                                                                                                                                                                                                                                                                                                                                                                                                                                                                                                                                                                                                                                                                                                                                                                                                                                                                                                                                                                                                                                                                                                                                                                                                                                                                                                      Non-Null Count  Dtype \n",
                        "---  ------                                                                                                                                                                                                                                                                                                                                                                                                                                                                                                                                                                                                                                                                                                                                                                                                                                                                                                                                                                                                                                                                                                                                                                                                                                                                                                                                                                                      --------------  ----- \n",
                        " 0   Household                                                                                                                                                                                                                                                                                                                                                                                                                                                                                                                                                                                                                                                                                                                                                                                                                                                                                                                                                                                                                                                                                                                                                                                                                                                                                                                                                                                   50424 non-null  object\n",
                        " 1   Paper Plane Design Framed Wall Hanging Motivational Office Decor Art Prints (8.7 X 8.7 inch) - Set of 4 Painting made up in synthetic frame with uv textured print which gives multi effects and attracts towards it. This is an special series of paintings which makes your wall very beautiful and gives a royal touch. This painting is ready to hang, you would be proud to possess this unique painting that is a niche apart. We use only the most modern and efficient printing technology on our prints, with only the and inks and precision epson, roland and hp printers. This innovative hd printing technique results in durable and spectacular looking prints of the highest that last a lifetime. We print solely with top-notch 100% inks, to achieve brilliant and true colours. Due to their high level of uv resistance, our prints retain their beautiful colours for many years. Add colour and style to your living space with this digitally printed painting. Some are for pleasure and some for eternal bliss.so bring home this elegant print that is lushed with rich colors that makes it nothing but sheer elegance to be to your friends and family.it would be treasured forever by whoever your lucky recipient is. Liven up your place with these intriguing paintings that are high definition hd graphic digital prints for home, office or any room.  50423 non-null  object\n",
                        "dtypes: object(2)\n",
                        "memory usage: 788.0+ KB\n"
                    ]
                }
            ],
            "source": [
                "data.info()"
            ]
        },
        {
            "cell_type": "markdown",
            "id": "c55da264",
            "metadata": {
                "id": "c55da264"
            },
            "source": [
                "### Rename Columns\n",
                "\n",
                "Column names are updated for clarity and consistency, making the data easier to work with throughout the project."
            ]
        },
        {
            "cell_type": "code",
            "execution_count": 8,
            "id": "593b309d",
            "metadata": {
                "colab": {
                    "base_uri": "https://localhost:8080/"
                },
                "executionInfo": {
                    "elapsed": 98,
                    "status": "ok",
                    "timestamp": 1755955813742,
                    "user": {
                        "displayName": "Virginia Herrero",
                        "userId": "16104809763584669928"
                    },
                    "user_tz": -120
                },
                "id": "593b309d",
                "outputId": "2c4a34b7-0fee-47b3-db14-407399baa829"
            },
            "outputs": [
                {
                    "data": {
                        "text/plain": [
                            "Index(['Household', 'Paper Plane Design Framed Wall Hanging Motivational Office Decor Art Prints (8.7 X 8.7 inch) - Set of 4 Painting made up in synthetic frame with uv textured print which gives multi effects and attracts towards it. This is an special series of paintings which makes your wall very beautiful and gives a royal touch. This painting is ready to hang, you would be proud to possess this unique painting that is a niche apart. We use only the most modern and efficient printing technology on our prints, with only the and inks and precision epson, roland and hp printers. This innovative hd printing technique results in durable and spectacular looking prints of the highest that last a lifetime. We print solely with top-notch 100% inks, to achieve brilliant and true colours. Due to their high level of uv resistance, our prints retain their beautiful colours for many years. Add colour and style to your living space with this digitally printed painting. Some are for pleasure and some for eternal bliss.so bring home this elegant print that is lushed with rich colors that makes it nothing but sheer elegance to be to your friends and family.it would be treasured forever by whoever your lucky recipient is. Liven up your place with these intriguing paintings that are high definition hd graphic digital prints for home, office or any room.'], dtype='object')"
                        ]
                    },
                    "execution_count": 8,
                    "metadata": {},
                    "output_type": "execute_result"
                }
            ],
            "source": [
                "data.columns"
            ]
        },
        {
            "cell_type": "code",
            "execution_count": 9,
            "id": "99b07d58",
            "metadata": {
                "colab": {
                    "base_uri": "https://localhost:8080/",
                    "height": 206
                },
                "executionInfo": {
                    "elapsed": 89,
                    "status": "ok",
                    "timestamp": 1755955813790,
                    "user": {
                        "displayName": "Virginia Herrero",
                        "userId": "16104809763584669928"
                    },
                    "user_tz": -120
                },
                "id": "99b07d58",
                "outputId": "f5ef3ef3-f49b-4a13-e580-690a365136c9"
            },
            "outputs": [
                {
                    "data": {
                        "application/vnd.google.colaboratory.intrinsic+json": {
                            "summary": "{\n  \"name\": \"data\",\n  \"rows\": 50424,\n  \"fields\": [\n    {\n      \"column\": \"label\",\n      \"properties\": {\n        \"dtype\": \"category\",\n        \"num_unique_values\": 4,\n        \"samples\": [\n          \"Books\",\n          \"Electronics\",\n          \"Household\"\n        ],\n        \"semantic_type\": \"\",\n        \"description\": \"\"\n      }\n    },\n    {\n      \"column\": \"product_description\",\n      \"properties\": {\n        \"dtype\": \"string\",\n        \"num_unique_values\": 27801,\n        \"samples\": [\n          \"AV2 Women Cotton Maternity/Feeding/Nursing Nightwear Set Relax at ease wearing this soft and comfortable maternity feeding nightwear set from AV2. It's surely going to be your favourite nightsuit. This capri length solid nightwear set comprises of tshirt with graphic print, short sleeve along with discreet zipper for nursing use, while capri is elasticated with drawstring and a side pocket, This top and capri ni can be worn for casual lounge wear as well as regular maternity wear.\",\n          \"Kitchen Utensil Kitchenware Curd Maker/Free Hand Blender for Egg & Cream Beater, Milkshake, Lassi, Butter Milk Mixer BeaterK Power Free Hand Blender Beating (Cream,Eggs,etc),Liquidizing(Tomato Soup, Dal etc),Churring(Milk Shake,Lassi Butter Milk etc.) Smoothly rotating gears are enclosed for protection and easy clean-up Non-slip grips on turning knob and contoured handle Non electrical, Handy and easy to operate Sturdy stainless steel Beaters can be removed easily for cleaning Beaters are elevated and continue to work while device rests on bottom of bowl Perfect for eggs, light batters, whipped cream\",\n          \"BEESCLOVER Mini Portable Handheld Lint Clothes Sweater Shaver Remover Dust Lint Remover for Fluff Fuzz Fabrics Black Manually Color Name:black   Description: Item type: Lint Remover Specification: Manual Dust Lint Remover Color: white, black Features -- Practical and reusable -- Easy to operate -- Easy operation Material: ABS Package includes: 1 x Dust Lint Remover Notes: 1-2mm error might exist due to manual measurements, please kindly understand. The colors deviation might differ due to different monitor settings.\"\n        ],\n        \"semantic_type\": \"\",\n        \"description\": \"\"\n      }\n    }\n  ]\n}",
                            "type": "dataframe",
                            "variable_name": "data"
                        },
                        "text/html": [
                            "\n",
                            "  <div id=\"df-15fc9174-dc9c-4d67-bb2f-f6eec48f1ca3\" class=\"colab-df-container\">\n",
                            "    <div>\n",
                            "<style scoped>\n",
                            "    .dataframe tbody tr th:only-of-type {\n",
                            "        vertical-align: middle;\n",
                            "    }\n",
                            "\n",
                            "    .dataframe tbody tr th {\n",
                            "        vertical-align: top;\n",
                            "    }\n",
                            "\n",
                            "    .dataframe thead th {\n",
                            "        text-align: right;\n",
                            "    }\n",
                            "</style>\n",
                            "<table border=\"1\" class=\"dataframe\">\n",
                            "  <thead>\n",
                            "    <tr style=\"text-align: right;\">\n",
                            "      <th></th>\n",
                            "      <th>label</th>\n",
                            "      <th>product_description</th>\n",
                            "    </tr>\n",
                            "  </thead>\n",
                            "  <tbody>\n",
                            "    <tr>\n",
                            "      <th>0</th>\n",
                            "      <td>Household</td>\n",
                            "      <td>SAF 'Floral' Framed Painting (Wood, 30 inch x ...</td>\n",
                            "    </tr>\n",
                            "    <tr>\n",
                            "      <th>1</th>\n",
                            "      <td>Household</td>\n",
                            "      <td>SAF 'UV Textured Modern Art Print Framed' Pain...</td>\n",
                            "    </tr>\n",
                            "    <tr>\n",
                            "      <th>2</th>\n",
                            "      <td>Household</td>\n",
                            "      <td>SAF Flower Print Framed Painting (Synthetic, 1...</td>\n",
                            "    </tr>\n",
                            "    <tr>\n",
                            "      <th>3</th>\n",
                            "      <td>Household</td>\n",
                            "      <td>Incredible Gifts India Wooden Happy Birthday U...</td>\n",
                            "    </tr>\n",
                            "    <tr>\n",
                            "      <th>4</th>\n",
                            "      <td>Household</td>\n",
                            "      <td>Pitaara Box Romantic Venice Canvas Painting 6m...</td>\n",
                            "    </tr>\n",
                            "  </tbody>\n",
                            "</table>\n",
                            "</div>\n",
                            "    <div class=\"colab-df-buttons\">\n",
                            "\n",
                            "  <div class=\"colab-df-container\">\n",
                            "    <button class=\"colab-df-convert\" onclick=\"convertToInteractive('df-15fc9174-dc9c-4d67-bb2f-f6eec48f1ca3')\"\n",
                            "            title=\"Convert this dataframe to an interactive table.\"\n",
                            "            style=\"display:none;\">\n",
                            "\n",
                            "  <svg xmlns=\"http://www.w3.org/2000/svg\" height=\"24px\" viewBox=\"0 -960 960 960\">\n",
                            "    <path d=\"M120-120v-720h720v720H120Zm60-500h600v-160H180v160Zm220 220h160v-160H400v160Zm0 220h160v-160H400v160ZM180-400h160v-160H180v160Zm440 0h160v-160H620v160ZM180-180h160v-160H180v160Zm440 0h160v-160H620v160Z\"/>\n",
                            "  </svg>\n",
                            "    </button>\n",
                            "\n",
                            "  <style>\n",
                            "    .colab-df-container {\n",
                            "      display:flex;\n",
                            "      gap: 12px;\n",
                            "    }\n",
                            "\n",
                            "    .colab-df-convert {\n",
                            "      background-color: #E8F0FE;\n",
                            "      border: none;\n",
                            "      border-radius: 50%;\n",
                            "      cursor: pointer;\n",
                            "      display: none;\n",
                            "      fill: #1967D2;\n",
                            "      height: 32px;\n",
                            "      padding: 0 0 0 0;\n",
                            "      width: 32px;\n",
                            "    }\n",
                            "\n",
                            "    .colab-df-convert:hover {\n",
                            "      background-color: #E2EBFA;\n",
                            "      box-shadow: 0px 1px 2px rgba(60, 64, 67, 0.3), 0px 1px 3px 1px rgba(60, 64, 67, 0.15);\n",
                            "      fill: #174EA6;\n",
                            "    }\n",
                            "\n",
                            "    .colab-df-buttons div {\n",
                            "      margin-bottom: 4px;\n",
                            "    }\n",
                            "\n",
                            "    [theme=dark] .colab-df-convert {\n",
                            "      background-color: #3B4455;\n",
                            "      fill: #D2E3FC;\n",
                            "    }\n",
                            "\n",
                            "    [theme=dark] .colab-df-convert:hover {\n",
                            "      background-color: #434B5C;\n",
                            "      box-shadow: 0px 1px 3px 1px rgba(0, 0, 0, 0.15);\n",
                            "      filter: drop-shadow(0px 1px 2px rgba(0, 0, 0, 0.3));\n",
                            "      fill: #FFFFFF;\n",
                            "    }\n",
                            "  </style>\n",
                            "\n",
                            "    <script>\n",
                            "      const buttonEl =\n",
                            "        document.querySelector('#df-15fc9174-dc9c-4d67-bb2f-f6eec48f1ca3 button.colab-df-convert');\n",
                            "      buttonEl.style.display =\n",
                            "        google.colab.kernel.accessAllowed ? 'block' : 'none';\n",
                            "\n",
                            "      async function convertToInteractive(key) {\n",
                            "        const element = document.querySelector('#df-15fc9174-dc9c-4d67-bb2f-f6eec48f1ca3');\n",
                            "        const dataTable =\n",
                            "          await google.colab.kernel.invokeFunction('convertToInteractive',\n",
                            "                                                    [key], {});\n",
                            "        if (!dataTable) return;\n",
                            "\n",
                            "        const docLinkHtml = 'Like what you see? Visit the ' +\n",
                            "          '<a target=\"_blank\" href=https://colab.research.google.com/notebooks/data_table.ipynb>data table notebook</a>'\n",
                            "          + ' to learn more about interactive tables.';\n",
                            "        element.innerHTML = '';\n",
                            "        dataTable['output_type'] = 'display_data';\n",
                            "        await google.colab.output.renderOutput(dataTable, element);\n",
                            "        const docLink = document.createElement('div');\n",
                            "        docLink.innerHTML = docLinkHtml;\n",
                            "        element.appendChild(docLink);\n",
                            "      }\n",
                            "    </script>\n",
                            "  </div>\n",
                            "\n",
                            "\n",
                            "    <div id=\"df-2bfaa68f-95b9-42f4-9e0c-ab5409d05460\">\n",
                            "      <button class=\"colab-df-quickchart\" onclick=\"quickchart('df-2bfaa68f-95b9-42f4-9e0c-ab5409d05460')\"\n",
                            "                title=\"Suggest charts\"\n",
                            "                style=\"display:none;\">\n",
                            "\n",
                            "<svg xmlns=\"http://www.w3.org/2000/svg\" height=\"24px\"viewBox=\"0 0 24 24\"\n",
                            "     width=\"24px\">\n",
                            "    <g>\n",
                            "        <path d=\"M19 3H5c-1.1 0-2 .9-2 2v14c0 1.1.9 2 2 2h14c1.1 0 2-.9 2-2V5c0-1.1-.9-2-2-2zM9 17H7v-7h2v7zm4 0h-2V7h2v10zm4 0h-2v-4h2v4z\"/>\n",
                            "    </g>\n",
                            "</svg>\n",
                            "      </button>\n",
                            "\n",
                            "<style>\n",
                            "  .colab-df-quickchart {\n",
                            "      --bg-color: #E8F0FE;\n",
                            "      --fill-color: #1967D2;\n",
                            "      --hover-bg-color: #E2EBFA;\n",
                            "      --hover-fill-color: #174EA6;\n",
                            "      --disabled-fill-color: #AAA;\n",
                            "      --disabled-bg-color: #DDD;\n",
                            "  }\n",
                            "\n",
                            "  [theme=dark] .colab-df-quickchart {\n",
                            "      --bg-color: #3B4455;\n",
                            "      --fill-color: #D2E3FC;\n",
                            "      --hover-bg-color: #434B5C;\n",
                            "      --hover-fill-color: #FFFFFF;\n",
                            "      --disabled-bg-color: #3B4455;\n",
                            "      --disabled-fill-color: #666;\n",
                            "  }\n",
                            "\n",
                            "  .colab-df-quickchart {\n",
                            "    background-color: var(--bg-color);\n",
                            "    border: none;\n",
                            "    border-radius: 50%;\n",
                            "    cursor: pointer;\n",
                            "    display: none;\n",
                            "    fill: var(--fill-color);\n",
                            "    height: 32px;\n",
                            "    padding: 0;\n",
                            "    width: 32px;\n",
                            "  }\n",
                            "\n",
                            "  .colab-df-quickchart:hover {\n",
                            "    background-color: var(--hover-bg-color);\n",
                            "    box-shadow: 0 1px 2px rgba(60, 64, 67, 0.3), 0 1px 3px 1px rgba(60, 64, 67, 0.15);\n",
                            "    fill: var(--button-hover-fill-color);\n",
                            "  }\n",
                            "\n",
                            "  .colab-df-quickchart-complete:disabled,\n",
                            "  .colab-df-quickchart-complete:disabled:hover {\n",
                            "    background-color: var(--disabled-bg-color);\n",
                            "    fill: var(--disabled-fill-color);\n",
                            "    box-shadow: none;\n",
                            "  }\n",
                            "\n",
                            "  .colab-df-spinner {\n",
                            "    border: 2px solid var(--fill-color);\n",
                            "    border-color: transparent;\n",
                            "    border-bottom-color: var(--fill-color);\n",
                            "    animation:\n",
                            "      spin 1s steps(1) infinite;\n",
                            "  }\n",
                            "\n",
                            "  @keyframes spin {\n",
                            "    0% {\n",
                            "      border-color: transparent;\n",
                            "      border-bottom-color: var(--fill-color);\n",
                            "      border-left-color: var(--fill-color);\n",
                            "    }\n",
                            "    20% {\n",
                            "      border-color: transparent;\n",
                            "      border-left-color: var(--fill-color);\n",
                            "      border-top-color: var(--fill-color);\n",
                            "    }\n",
                            "    30% {\n",
                            "      border-color: transparent;\n",
                            "      border-left-color: var(--fill-color);\n",
                            "      border-top-color: var(--fill-color);\n",
                            "      border-right-color: var(--fill-color);\n",
                            "    }\n",
                            "    40% {\n",
                            "      border-color: transparent;\n",
                            "      border-right-color: var(--fill-color);\n",
                            "      border-top-color: var(--fill-color);\n",
                            "    }\n",
                            "    60% {\n",
                            "      border-color: transparent;\n",
                            "      border-right-color: var(--fill-color);\n",
                            "    }\n",
                            "    80% {\n",
                            "      border-color: transparent;\n",
                            "      border-right-color: var(--fill-color);\n",
                            "      border-bottom-color: var(--fill-color);\n",
                            "    }\n",
                            "    90% {\n",
                            "      border-color: transparent;\n",
                            "      border-bottom-color: var(--fill-color);\n",
                            "    }\n",
                            "  }\n",
                            "</style>\n",
                            "\n",
                            "      <script>\n",
                            "        async function quickchart(key) {\n",
                            "          const quickchartButtonEl =\n",
                            "            document.querySelector('#' + key + ' button');\n",
                            "          quickchartButtonEl.disabled = true;  // To prevent multiple clicks.\n",
                            "          quickchartButtonEl.classList.add('colab-df-spinner');\n",
                            "          try {\n",
                            "            const charts = await google.colab.kernel.invokeFunction(\n",
                            "                'suggestCharts', [key], {});\n",
                            "          } catch (error) {\n",
                            "            console.error('Error during call to suggestCharts:', error);\n",
                            "          }\n",
                            "          quickchartButtonEl.classList.remove('colab-df-spinner');\n",
                            "          quickchartButtonEl.classList.add('colab-df-quickchart-complete');\n",
                            "        }\n",
                            "        (() => {\n",
                            "          let quickchartButtonEl =\n",
                            "            document.querySelector('#df-2bfaa68f-95b9-42f4-9e0c-ab5409d05460 button');\n",
                            "          quickchartButtonEl.style.display =\n",
                            "            google.colab.kernel.accessAllowed ? 'block' : 'none';\n",
                            "        })();\n",
                            "      </script>\n",
                            "    </div>\n",
                            "\n",
                            "    </div>\n",
                            "  </div>\n"
                        ],
                        "text/plain": [
                            "       label                                product_description\n",
                            "0  Household  SAF 'Floral' Framed Painting (Wood, 30 inch x ...\n",
                            "1  Household  SAF 'UV Textured Modern Art Print Framed' Pain...\n",
                            "2  Household  SAF Flower Print Framed Painting (Synthetic, 1...\n",
                            "3  Household  Incredible Gifts India Wooden Happy Birthday U...\n",
                            "4  Household  Pitaara Box Romantic Venice Canvas Painting 6m..."
                        ]
                    },
                    "execution_count": 9,
                    "metadata": {},
                    "output_type": "execute_result"
                }
            ],
            "source": [
                "data = data.rename(columns = {data.columns[0]: \"label\", data.columns[1]: \"product_description\"})\n",
                "data.head()"
            ]
        },
        {
            "cell_type": "markdown",
            "id": "09400d14",
            "metadata": {
                "id": "09400d14"
            },
            "source": [
                "### Null Values\n",
                "\n",
                "Rows containing null values are removed to maintain data integrity. This helps ensure the dataset is complete and reduces potential issues during analysis and modeling."
            ]
        },
        {
            "cell_type": "code",
            "execution_count": 10,
            "id": "00907117",
            "metadata": {
                "colab": {
                    "base_uri": "https://localhost:8080/",
                    "height": 147
                },
                "executionInfo": {
                    "elapsed": 141,
                    "status": "ok",
                    "timestamp": 1755955813937,
                    "user": {
                        "displayName": "Virginia Herrero",
                        "userId": "16104809763584669928"
                    },
                    "user_tz": -120
                },
                "id": "00907117",
                "outputId": "ca0edfa1-d737-4af1-af98-43553b1d829e"
            },
            "outputs": [
                {
                    "data": {
                        "text/html": [
                            "<div>\n",
                            "<style scoped>\n",
                            "    .dataframe tbody tr th:only-of-type {\n",
                            "        vertical-align: middle;\n",
                            "    }\n",
                            "\n",
                            "    .dataframe tbody tr th {\n",
                            "        vertical-align: top;\n",
                            "    }\n",
                            "\n",
                            "    .dataframe thead th {\n",
                            "        text-align: right;\n",
                            "    }\n",
                            "</style>\n",
                            "<table border=\"1\" class=\"dataframe\">\n",
                            "  <thead>\n",
                            "    <tr style=\"text-align: right;\">\n",
                            "      <th></th>\n",
                            "      <th>0</th>\n",
                            "    </tr>\n",
                            "  </thead>\n",
                            "  <tbody>\n",
                            "    <tr>\n",
                            "      <th>label</th>\n",
                            "      <td>0</td>\n",
                            "    </tr>\n",
                            "    <tr>\n",
                            "      <th>product_description</th>\n",
                            "      <td>1</td>\n",
                            "    </tr>\n",
                            "  </tbody>\n",
                            "</table>\n",
                            "</div><br><label><b>dtype:</b> int64</label>"
                        ],
                        "text/plain": [
                            "label                  0\n",
                            "product_description    1\n",
                            "dtype: int64"
                        ]
                    },
                    "execution_count": 10,
                    "metadata": {},
                    "output_type": "execute_result"
                }
            ],
            "source": [
                "data.isna().sum()"
            ]
        },
        {
            "cell_type": "code",
            "execution_count": 11,
            "id": "b73258de",
            "metadata": {
                "executionInfo": {
                    "elapsed": 112,
                    "status": "ok",
                    "timestamp": 1755955813982,
                    "user": {
                        "displayName": "Virginia Herrero",
                        "userId": "16104809763584669928"
                    },
                    "user_tz": -120
                },
                "id": "b73258de"
            },
            "outputs": [],
            "source": [
                "data = data.dropna()"
            ]
        },
        {
            "cell_type": "code",
            "execution_count": 12,
            "id": "2346f74c",
            "metadata": {
                "colab": {
                    "base_uri": "https://localhost:8080/"
                },
                "executionInfo": {
                    "elapsed": 105,
                    "status": "ok",
                    "timestamp": 1755955813990,
                    "user": {
                        "displayName": "Virginia Herrero",
                        "userId": "16104809763584669928"
                    },
                    "user_tz": -120
                },
                "id": "2346f74c",
                "outputId": "6d714bbb-6c2e-4730-cff8-33d6dcb13ffc"
            },
            "outputs": [
                {
                    "name": "stdout",
                    "output_type": "stream",
                    "text": [
                        "Missing values are dropped from the dataset. New dataset shape: (50423, 2)\n"
                    ]
                }
            ],
            "source": [
                "print(f\"Missing values are dropped from the dataset. New dataset shape: {data.shape}\")"
            ]
        },
        {
            "cell_type": "markdown",
            "id": "0197adaa",
            "metadata": {
                "id": "0197adaa"
            },
            "source": [
                "### Duplicated Values\n",
                "\n",
                "Rows that have duplicate values across all columns are identified and removed. This helps prevent redundant data from affecting the analysis and model performance."
            ]
        },
        {
            "cell_type": "code",
            "execution_count": 13,
            "id": "9d392eee",
            "metadata": {
                "colab": {
                    "base_uri": "https://localhost:8080/"
                },
                "executionInfo": {
                    "elapsed": 87,
                    "status": "ok",
                    "timestamp": 1755955814010,
                    "user": {
                        "displayName": "Virginia Herrero",
                        "userId": "16104809763584669928"
                    },
                    "user_tz": -120
                },
                "id": "9d392eee",
                "outputId": "203f3705-2503-4797-a7e4-b229c69503dd"
            },
            "outputs": [
                {
                    "name": "stdout",
                    "output_type": "stream",
                    "text": [
                        "Full duplicate rows: 22622\n"
                    ]
                }
            ],
            "source": [
                "full_dupes = data[data.duplicated()]\n",
                "print(f\"Full duplicate rows: {full_dupes.shape[0]}\")"
            ]
        },
        {
            "cell_type": "code",
            "execution_count": 14,
            "id": "694c49ba",
            "metadata": {
                "colab": {
                    "base_uri": "https://localhost:8080/",
                    "height": 363
                },
                "executionInfo": {
                    "elapsed": 160,
                    "status": "ok",
                    "timestamp": 1755955814172,
                    "user": {
                        "displayName": "Virginia Herrero",
                        "userId": "16104809763584669928"
                    },
                    "user_tz": -120
                },
                "id": "694c49ba",
                "outputId": "37b8385b-869c-43d5-d790-3737e6aa59e3"
            },
            "outputs": [
                {
                    "data": {
                        "application/vnd.google.colaboratory.intrinsic+json": {
                            "summary": "{\n  \"name\": \"full_dupes\",\n  \"rows\": 22622,\n  \"fields\": [\n    {\n      \"column\": \"label\",\n      \"properties\": {\n        \"dtype\": \"category\",\n        \"num_unique_values\": 4,\n        \"samples\": [\n          \"Books\",\n          \"Electronics\",\n          \"Household\"\n        ],\n        \"semantic_type\": \"\",\n        \"description\": \"\"\n      }\n    },\n    {\n      \"column\": \"product_description\",\n      \"properties\": {\n        \"dtype\": \"string\",\n        \"num_unique_values\": 13979,\n        \"samples\": [\n          \"AWINNER Silicone Protector Case Cover for Mi 20000mAH Power Bank 2i (Red) Colour:Red   AWINNER Silicone Protector Case Cover For Mi 20000mAH Power Bank 2i\",\n          \"Storin 3 m 3Pin Computer/Printer/Desktop/PC/SMPS Power Cable Cord (Black) Brand :  Storin Electro World  Colour :  Black   Product Description    A High Quality Fully Moulded 3 pin India 13 amp plug to IEC socket.  This is used for powering a monitor or PC and a whole host of other PC Equipment like printer.  The plug comes fully tested and is supplied with a fitted 5 amp fuse.  This plug is ROHS compliant ensuring the highest material standards in India 3m long black color .    Warranty : 1 Year Warranty By Storin Electro World.\",\n          \"Active Life Hikvision DS-7B16HQHI-K2 HD 16Ch Metal DVR Hikvision 1080P (2MP) DS-7016HQHI-K2 / DS-7B16HQHI-K2 16CH HD DVR 1Pcs. ||Motion Detaction system is available ||DVR Description : H.265+/H.265/H.264+/H.264 encoding for the main stream, and H.265/H.264 for the sub-stream of analog cameras.Self-adaptive HDTVI/HDCVI/AHD/CVBS signal input. Connectable to H.265+/H.265/H.264+/H.264 IP cameras || Support Camera - 3MP Camera , 2MP & 1MP HD-TVI /analog and AHD cameras with adaptive access.Up to 3 MP resolution for recording || HDMI output at up to 4K (3840 Ã 2160) resolution for DS-7216HQHI-K2.Long distance transmission over UTP and coaxial cable.16-ch synchronous playback || SATA PORT - 2 PORT || Hard disk Capacity - up to 6Tb, USB Inteface - 2 USB (1USB 2.0 Interface & 1USB 3.0 Interface) || Network protocols: TCP/IP, PPPoE, DHCP, Hik-Connect, DNS, DDNS, NTP, SADP, NFS, iSCSI, UPnPTM, HTTPS, ONVIF. || Free Cloud P2P In-Built, Mobile View (Android And Windows Phone), Can Be Watched Online Using Cloud P2P, quality Branded Product, Installation is not included.This is Best Combo kit in the market. It's full combo Pack which does not require any other components. This Combo Kit suitable for buyers who are looking for cctv surveillance for their shops, warehouses, office, schools, tuition, classrooms, retail stores and for home security Purpose.\"\n        ],\n        \"semantic_type\": \"\",\n        \"description\": \"\"\n      }\n    }\n  ]\n}",
                            "type": "dataframe",
                            "variable_name": "full_dupes"
                        },
                        "text/html": [
                            "\n",
                            "  <div id=\"df-76d3a96e-03bb-44dd-b0c5-c1c134f28486\" class=\"colab-df-container\">\n",
                            "    <div>\n",
                            "<style scoped>\n",
                            "    .dataframe tbody tr th:only-of-type {\n",
                            "        vertical-align: middle;\n",
                            "    }\n",
                            "\n",
                            "    .dataframe tbody tr th {\n",
                            "        vertical-align: top;\n",
                            "    }\n",
                            "\n",
                            "    .dataframe thead th {\n",
                            "        text-align: right;\n",
                            "    }\n",
                            "</style>\n",
                            "<table border=\"1\" class=\"dataframe\">\n",
                            "  <thead>\n",
                            "    <tr style=\"text-align: right;\">\n",
                            "      <th></th>\n",
                            "      <th>label</th>\n",
                            "      <th>product_description</th>\n",
                            "    </tr>\n",
                            "  </thead>\n",
                            "  <tbody>\n",
                            "    <tr>\n",
                            "      <th>6</th>\n",
                            "      <td>Household</td>\n",
                            "      <td>Pitaara Box Romantic Venice Canvas Painting 6m...</td>\n",
                            "    </tr>\n",
                            "    <tr>\n",
                            "      <th>10</th>\n",
                            "      <td>Household</td>\n",
                            "      <td>Paper Plane Design Starry Night Vangoh Wall Ar...</td>\n",
                            "    </tr>\n",
                            "    <tr>\n",
                            "      <th>11</th>\n",
                            "      <td>Household</td>\n",
                            "      <td>Pitaara Box Romantic Venice Canvas Painting 6m...</td>\n",
                            "    </tr>\n",
                            "    <tr>\n",
                            "      <th>15</th>\n",
                            "      <td>Household</td>\n",
                            "      <td>SAF Flower Print Framed Painting (Synthetic, 1...</td>\n",
                            "    </tr>\n",
                            "    <tr>\n",
                            "      <th>19</th>\n",
                            "      <td>Household</td>\n",
                            "      <td>SAF 'UV Textured Modern Art Print Framed' Pain...</td>\n",
                            "    </tr>\n",
                            "    <tr>\n",
                            "      <th>20</th>\n",
                            "      <td>Household</td>\n",
                            "      <td>SAF 'Floral' Framed Painting (Wood, 30 inch x ...</td>\n",
                            "    </tr>\n",
                            "    <tr>\n",
                            "      <th>21</th>\n",
                            "      <td>Household</td>\n",
                            "      <td>Incredible Gifts India Wooden Happy Birthday U...</td>\n",
                            "    </tr>\n",
                            "    <tr>\n",
                            "      <th>22</th>\n",
                            "      <td>Household</td>\n",
                            "      <td>Posterhouzz Comics Superhero Thor Joker Black ...</td>\n",
                            "    </tr>\n",
                            "    <tr>\n",
                            "      <th>23</th>\n",
                            "      <td>Household</td>\n",
                            "      <td>Indianara Motivational Square Synthetic Wood A...</td>\n",
                            "    </tr>\n",
                            "    <tr>\n",
                            "      <th>26</th>\n",
                            "      <td>Household</td>\n",
                            "      <td>Painting Mantra Synthetic Wood Art Street Trop...</td>\n",
                            "    </tr>\n",
                            "  </tbody>\n",
                            "</table>\n",
                            "</div>\n",
                            "    <div class=\"colab-df-buttons\">\n",
                            "\n",
                            "  <div class=\"colab-df-container\">\n",
                            "    <button class=\"colab-df-convert\" onclick=\"convertToInteractive('df-76d3a96e-03bb-44dd-b0c5-c1c134f28486')\"\n",
                            "            title=\"Convert this dataframe to an interactive table.\"\n",
                            "            style=\"display:none;\">\n",
                            "\n",
                            "  <svg xmlns=\"http://www.w3.org/2000/svg\" height=\"24px\" viewBox=\"0 -960 960 960\">\n",
                            "    <path d=\"M120-120v-720h720v720H120Zm60-500h600v-160H180v160Zm220 220h160v-160H400v160Zm0 220h160v-160H400v160ZM180-400h160v-160H180v160Zm440 0h160v-160H620v160ZM180-180h160v-160H180v160Zm440 0h160v-160H620v160Z\"/>\n",
                            "  </svg>\n",
                            "    </button>\n",
                            "\n",
                            "  <style>\n",
                            "    .colab-df-container {\n",
                            "      display:flex;\n",
                            "      gap: 12px;\n",
                            "    }\n",
                            "\n",
                            "    .colab-df-convert {\n",
                            "      background-color: #E8F0FE;\n",
                            "      border: none;\n",
                            "      border-radius: 50%;\n",
                            "      cursor: pointer;\n",
                            "      display: none;\n",
                            "      fill: #1967D2;\n",
                            "      height: 32px;\n",
                            "      padding: 0 0 0 0;\n",
                            "      width: 32px;\n",
                            "    }\n",
                            "\n",
                            "    .colab-df-convert:hover {\n",
                            "      background-color: #E2EBFA;\n",
                            "      box-shadow: 0px 1px 2px rgba(60, 64, 67, 0.3), 0px 1px 3px 1px rgba(60, 64, 67, 0.15);\n",
                            "      fill: #174EA6;\n",
                            "    }\n",
                            "\n",
                            "    .colab-df-buttons div {\n",
                            "      margin-bottom: 4px;\n",
                            "    }\n",
                            "\n",
                            "    [theme=dark] .colab-df-convert {\n",
                            "      background-color: #3B4455;\n",
                            "      fill: #D2E3FC;\n",
                            "    }\n",
                            "\n",
                            "    [theme=dark] .colab-df-convert:hover {\n",
                            "      background-color: #434B5C;\n",
                            "      box-shadow: 0px 1px 3px 1px rgba(0, 0, 0, 0.15);\n",
                            "      filter: drop-shadow(0px 1px 2px rgba(0, 0, 0, 0.3));\n",
                            "      fill: #FFFFFF;\n",
                            "    }\n",
                            "  </style>\n",
                            "\n",
                            "    <script>\n",
                            "      const buttonEl =\n",
                            "        document.querySelector('#df-76d3a96e-03bb-44dd-b0c5-c1c134f28486 button.colab-df-convert');\n",
                            "      buttonEl.style.display =\n",
                            "        google.colab.kernel.accessAllowed ? 'block' : 'none';\n",
                            "\n",
                            "      async function convertToInteractive(key) {\n",
                            "        const element = document.querySelector('#df-76d3a96e-03bb-44dd-b0c5-c1c134f28486');\n",
                            "        const dataTable =\n",
                            "          await google.colab.kernel.invokeFunction('convertToInteractive',\n",
                            "                                                    [key], {});\n",
                            "        if (!dataTable) return;\n",
                            "\n",
                            "        const docLinkHtml = 'Like what you see? Visit the ' +\n",
                            "          '<a target=\"_blank\" href=https://colab.research.google.com/notebooks/data_table.ipynb>data table notebook</a>'\n",
                            "          + ' to learn more about interactive tables.';\n",
                            "        element.innerHTML = '';\n",
                            "        dataTable['output_type'] = 'display_data';\n",
                            "        await google.colab.output.renderOutput(dataTable, element);\n",
                            "        const docLink = document.createElement('div');\n",
                            "        docLink.innerHTML = docLinkHtml;\n",
                            "        element.appendChild(docLink);\n",
                            "      }\n",
                            "    </script>\n",
                            "  </div>\n",
                            "\n",
                            "\n",
                            "    <div id=\"df-12eb8462-53ae-41b8-b674-e7cbae1be560\">\n",
                            "      <button class=\"colab-df-quickchart\" onclick=\"quickchart('df-12eb8462-53ae-41b8-b674-e7cbae1be560')\"\n",
                            "                title=\"Suggest charts\"\n",
                            "                style=\"display:none;\">\n",
                            "\n",
                            "<svg xmlns=\"http://www.w3.org/2000/svg\" height=\"24px\"viewBox=\"0 0 24 24\"\n",
                            "     width=\"24px\">\n",
                            "    <g>\n",
                            "        <path d=\"M19 3H5c-1.1 0-2 .9-2 2v14c0 1.1.9 2 2 2h14c1.1 0 2-.9 2-2V5c0-1.1-.9-2-2-2zM9 17H7v-7h2v7zm4 0h-2V7h2v10zm4 0h-2v-4h2v4z\"/>\n",
                            "    </g>\n",
                            "</svg>\n",
                            "      </button>\n",
                            "\n",
                            "<style>\n",
                            "  .colab-df-quickchart {\n",
                            "      --bg-color: #E8F0FE;\n",
                            "      --fill-color: #1967D2;\n",
                            "      --hover-bg-color: #E2EBFA;\n",
                            "      --hover-fill-color: #174EA6;\n",
                            "      --disabled-fill-color: #AAA;\n",
                            "      --disabled-bg-color: #DDD;\n",
                            "  }\n",
                            "\n",
                            "  [theme=dark] .colab-df-quickchart {\n",
                            "      --bg-color: #3B4455;\n",
                            "      --fill-color: #D2E3FC;\n",
                            "      --hover-bg-color: #434B5C;\n",
                            "      --hover-fill-color: #FFFFFF;\n",
                            "      --disabled-bg-color: #3B4455;\n",
                            "      --disabled-fill-color: #666;\n",
                            "  }\n",
                            "\n",
                            "  .colab-df-quickchart {\n",
                            "    background-color: var(--bg-color);\n",
                            "    border: none;\n",
                            "    border-radius: 50%;\n",
                            "    cursor: pointer;\n",
                            "    display: none;\n",
                            "    fill: var(--fill-color);\n",
                            "    height: 32px;\n",
                            "    padding: 0;\n",
                            "    width: 32px;\n",
                            "  }\n",
                            "\n",
                            "  .colab-df-quickchart:hover {\n",
                            "    background-color: var(--hover-bg-color);\n",
                            "    box-shadow: 0 1px 2px rgba(60, 64, 67, 0.3), 0 1px 3px 1px rgba(60, 64, 67, 0.15);\n",
                            "    fill: var(--button-hover-fill-color);\n",
                            "  }\n",
                            "\n",
                            "  .colab-df-quickchart-complete:disabled,\n",
                            "  .colab-df-quickchart-complete:disabled:hover {\n",
                            "    background-color: var(--disabled-bg-color);\n",
                            "    fill: var(--disabled-fill-color);\n",
                            "    box-shadow: none;\n",
                            "  }\n",
                            "\n",
                            "  .colab-df-spinner {\n",
                            "    border: 2px solid var(--fill-color);\n",
                            "    border-color: transparent;\n",
                            "    border-bottom-color: var(--fill-color);\n",
                            "    animation:\n",
                            "      spin 1s steps(1) infinite;\n",
                            "  }\n",
                            "\n",
                            "  @keyframes spin {\n",
                            "    0% {\n",
                            "      border-color: transparent;\n",
                            "      border-bottom-color: var(--fill-color);\n",
                            "      border-left-color: var(--fill-color);\n",
                            "    }\n",
                            "    20% {\n",
                            "      border-color: transparent;\n",
                            "      border-left-color: var(--fill-color);\n",
                            "      border-top-color: var(--fill-color);\n",
                            "    }\n",
                            "    30% {\n",
                            "      border-color: transparent;\n",
                            "      border-left-color: var(--fill-color);\n",
                            "      border-top-color: var(--fill-color);\n",
                            "      border-right-color: var(--fill-color);\n",
                            "    }\n",
                            "    40% {\n",
                            "      border-color: transparent;\n",
                            "      border-right-color: var(--fill-color);\n",
                            "      border-top-color: var(--fill-color);\n",
                            "    }\n",
                            "    60% {\n",
                            "      border-color: transparent;\n",
                            "      border-right-color: var(--fill-color);\n",
                            "    }\n",
                            "    80% {\n",
                            "      border-color: transparent;\n",
                            "      border-right-color: var(--fill-color);\n",
                            "      border-bottom-color: var(--fill-color);\n",
                            "    }\n",
                            "    90% {\n",
                            "      border-color: transparent;\n",
                            "      border-bottom-color: var(--fill-color);\n",
                            "    }\n",
                            "  }\n",
                            "</style>\n",
                            "\n",
                            "      <script>\n",
                            "        async function quickchart(key) {\n",
                            "          const quickchartButtonEl =\n",
                            "            document.querySelector('#' + key + ' button');\n",
                            "          quickchartButtonEl.disabled = true;  // To prevent multiple clicks.\n",
                            "          quickchartButtonEl.classList.add('colab-df-spinner');\n",
                            "          try {\n",
                            "            const charts = await google.colab.kernel.invokeFunction(\n",
                            "                'suggestCharts', [key], {});\n",
                            "          } catch (error) {\n",
                            "            console.error('Error during call to suggestCharts:', error);\n",
                            "          }\n",
                            "          quickchartButtonEl.classList.remove('colab-df-spinner');\n",
                            "          quickchartButtonEl.classList.add('colab-df-quickchart-complete');\n",
                            "        }\n",
                            "        (() => {\n",
                            "          let quickchartButtonEl =\n",
                            "            document.querySelector('#df-12eb8462-53ae-41b8-b674-e7cbae1be560 button');\n",
                            "          quickchartButtonEl.style.display =\n",
                            "            google.colab.kernel.accessAllowed ? 'block' : 'none';\n",
                            "        })();\n",
                            "      </script>\n",
                            "    </div>\n",
                            "\n",
                            "    </div>\n",
                            "  </div>\n"
                        ],
                        "text/plain": [
                            "        label                                product_description\n",
                            "6   Household  Pitaara Box Romantic Venice Canvas Painting 6m...\n",
                            "10  Household  Paper Plane Design Starry Night Vangoh Wall Ar...\n",
                            "11  Household  Pitaara Box Romantic Venice Canvas Painting 6m...\n",
                            "15  Household  SAF Flower Print Framed Painting (Synthetic, 1...\n",
                            "19  Household  SAF 'UV Textured Modern Art Print Framed' Pain...\n",
                            "20  Household  SAF 'Floral' Framed Painting (Wood, 30 inch x ...\n",
                            "21  Household  Incredible Gifts India Wooden Happy Birthday U...\n",
                            "22  Household  Posterhouzz Comics Superhero Thor Joker Black ...\n",
                            "23  Household  Indianara Motivational Square Synthetic Wood A...\n",
                            "26  Household  Painting Mantra Synthetic Wood Art Street Trop..."
                        ]
                    },
                    "execution_count": 14,
                    "metadata": {},
                    "output_type": "execute_result"
                }
            ],
            "source": [
                "# Show a sample of duplicated rows\n",
                "full_dupes.head(10)"
            ]
        },
        {
            "cell_type": "code",
            "execution_count": 15,
            "id": "758061a7",
            "metadata": {
                "colab": {
                    "base_uri": "https://localhost:8080/"
                },
                "executionInfo": {
                    "elapsed": 124,
                    "status": "ok",
                    "timestamp": 1755955814277,
                    "user": {
                        "displayName": "Virginia Herrero",
                        "userId": "16104809763584669928"
                    },
                    "user_tz": -120
                },
                "id": "758061a7",
                "outputId": "aeca5324-5825-4255-a976-af0acedff159"
            },
            "outputs": [
                {
                    "name": "stdout",
                    "output_type": "stream",
                    "text": [
                        "Dataset shape after dropping duplicates: (27801, 2)\n"
                    ]
                }
            ],
            "source": [
                "# Remove duplicates\n",
                "data = data.drop_duplicates(subset = [\"label\", \"product_description\"])\n",
                "print(f\"Dataset shape after dropping duplicates: {data.shape}\")"
            ]
        },
        {
            "cell_type": "markdown",
            "id": "820108bd",
            "metadata": {
                "id": "820108bd"
            },
            "source": [
                "### Class Balance\n",
                "\n",
                "The distribution of class labels is examined to check for balance. Understanding class proportions helps guide modeling decisions and ensures the model performs well across all categories"
            ]
        },
        {
            "cell_type": "code",
            "execution_count": 16,
            "id": "3f880232",
            "metadata": {
                "colab": {
                    "base_uri": "https://localhost:8080/",
                    "height": 241
                },
                "executionInfo": {
                    "elapsed": 29,
                    "status": "ok",
                    "timestamp": 1755955814301,
                    "user": {
                        "displayName": "Virginia Herrero",
                        "userId": "16104809763584669928"
                    },
                    "user_tz": -120
                },
                "id": "3f880232",
                "outputId": "e30c2bcb-012d-42d3-e257-6652e8d0adef"
            },
            "outputs": [
                {
                    "data": {
                        "text/html": [
                            "<div>\n",
                            "<style scoped>\n",
                            "    .dataframe tbody tr th:only-of-type {\n",
                            "        vertical-align: middle;\n",
                            "    }\n",
                            "\n",
                            "    .dataframe tbody tr th {\n",
                            "        vertical-align: top;\n",
                            "    }\n",
                            "\n",
                            "    .dataframe thead th {\n",
                            "        text-align: right;\n",
                            "    }\n",
                            "</style>\n",
                            "<table border=\"1\" class=\"dataframe\">\n",
                            "  <thead>\n",
                            "    <tr style=\"text-align: right;\">\n",
                            "      <th></th>\n",
                            "      <th>count</th>\n",
                            "    </tr>\n",
                            "    <tr>\n",
                            "      <th>label</th>\n",
                            "      <th></th>\n",
                            "    </tr>\n",
                            "  </thead>\n",
                            "  <tbody>\n",
                            "    <tr>\n",
                            "      <th>Electronics</th>\n",
                            "      <td>5308</td>\n",
                            "    </tr>\n",
                            "    <tr>\n",
                            "      <th>Clothing &amp; Accessories</th>\n",
                            "      <td>5674</td>\n",
                            "    </tr>\n",
                            "    <tr>\n",
                            "      <th>Books</th>\n",
                            "      <td>6256</td>\n",
                            "    </tr>\n",
                            "    <tr>\n",
                            "      <th>Household</th>\n",
                            "      <td>10563</td>\n",
                            "    </tr>\n",
                            "  </tbody>\n",
                            "</table>\n",
                            "</div><br><label><b>dtype:</b> int64</label>"
                        ],
                        "text/plain": [
                            "label\n",
                            "Electronics                5308\n",
                            "Clothing & Accessories     5674\n",
                            "Books                      6256\n",
                            "Household                 10563\n",
                            "Name: count, dtype: int64"
                        ]
                    },
                    "execution_count": 16,
                    "metadata": {},
                    "output_type": "execute_result"
                }
            ],
            "source": [
                "label_dist = data[\"label\"].value_counts(ascending = True)\n",
                "label_dist"
            ]
        },
        {
            "cell_type": "markdown",
            "id": "87f74eb2",
            "metadata": {
                "id": "87f74eb2"
            },
            "source": [
                "The dataset includes four product categories with a moderate class imbalance. The \"Household\" category makes up the largest share, while \"Electronics\" is the smallest. Although the gap isn’t large, it could impact model performance. It’s a good idea to monitor class-specific metrics during evaluation to ensure the model learns each category fairly."
            ]
        },
        {
            "cell_type": "code",
            "execution_count": 17,
            "id": "6bce4e8e",
            "metadata": {
                "colab": {
                    "base_uri": "https://localhost:8080/",
                    "height": 333
                },
                "executionInfo": {
                    "elapsed": 384,
                    "status": "ok",
                    "timestamp": 1755955814693,
                    "user": {
                        "displayName": "Virginia Herrero",
                        "userId": "16104809763584669928"
                    },
                    "user_tz": -120
                },
                "id": "6bce4e8e",
                "outputId": "ddbeb06a-b67a-4838-c7d7-430ed9165307"
            },
            "outputs": [
                {
                    "data": {
                        "image/png": "[encoded data removed]",
                        "text/plain": [
                            "<Figure size 1100x300 with 1 Axes>"
                        ]
                    },
                    "metadata": {},
                    "output_type": "display_data"
                }
            ],
            "source": [
                "# Plot label counts\n",
                "plt.figure(figsize = (11, 3))\n",
                "ax = sns.barplot(x = label_dist.index, y = label_dist.values, color = \"gold\")\n",
                "\n",
                "# Add counts on top of bars with formatted numbers\n",
                "for i, count in enumerate(label_dist.values):\n",
                "    ax.text(i, count -1000, f\"{count}\", ha = \"center\", fontsize = 10)\n",
                "\n",
                "# Add labels and title\n",
                "plt.title(\"Product Category Distribution\")\n",
                "plt.xlabel(\"Category\")\n",
                "plt.ylabel(\"Count\")\n",
                "plt.savefig(FIGURES_DIR / \"product-category-distribution.png\")"
            ]
        },
        {
            "cell_type": "markdown",
            "id": "d9516dc0",
            "metadata": {
                "id": "d9516dc0"
            },
            "source": [
                "### Label Enconding\n",
                "\n",
                "Text labels are converted to integer values to make them compatible with the model. This mapping ensures the model can process the target categories effectively."
            ]
        },
        {
            "cell_type": "code",
            "execution_count": 18,
            "id": "41e22399",
            "metadata": {
                "executionInfo": {
                    "elapsed": 77,
                    "status": "ok",
                    "timestamp": 1755955814697,
                    "user": {
                        "displayName": "Virginia Herrero",
                        "userId": "16104809763584669928"
                    },
                    "user_tz": -120
                },
                "id": "41e22399"
            },
            "outputs": [],
            "source": [
                "# Convert textual category labels into integers\n",
                "label_mapping = {\n",
                "    \"Electronics\": 0,\n",
                "    \"Household\": 1,\n",
                "    \"Books\": 2,\n",
                "    \"Clothing & Accessories\": 3\n",
                "}\n",
                "\n",
                "data[\"label\"] = data[\"label\"].map(label_mapping)"
            ]
        },
        {
            "cell_type": "code",
            "execution_count": 19,
            "id": "97eb0bfe",
            "metadata": {
                "colab": {
                    "base_uri": "https://localhost:8080/",
                    "height": 206
                },
                "executionInfo": {
                    "elapsed": 120,
                    "status": "ok",
                    "timestamp": 1755955814797,
                    "user": {
                        "displayName": "Virginia Herrero",
                        "userId": "16104809763584669928"
                    },
                    "user_tz": -120
                },
                "id": "97eb0bfe",
                "outputId": "0e50c49d-6861-4a88-9a5b-dccbcf6b8486"
            },
            "outputs": [
                {
                    "data": {
                        "application/vnd.google.colaboratory.intrinsic+json": {
                            "summary": "{\n  \"name\": \"data\",\n  \"rows\": 27801,\n  \"fields\": [\n    {\n      \"column\": \"label\",\n      \"properties\": {\n        \"dtype\": \"number\",\n        \"std\": 1,\n        \"min\": 0,\n        \"max\": 3,\n        \"num_unique_values\": 4,\n        \"samples\": [\n          2,\n          0,\n          1\n        ],\n        \"semantic_type\": \"\",\n        \"description\": \"\"\n      }\n    },\n    {\n      \"column\": \"product_description\",\n      \"properties\": {\n        \"dtype\": \"string\",\n        \"num_unique_values\": 27801,\n        \"samples\": [\n          \"AV2 Women Cotton Maternity/Feeding/Nursing Nightwear Set Relax at ease wearing this soft and comfortable maternity feeding nightwear set from AV2. It's surely going to be your favourite nightsuit. This capri length solid nightwear set comprises of tshirt with graphic print, short sleeve along with discreet zipper for nursing use, while capri is elasticated with drawstring and a side pocket, This top and capri ni can be worn for casual lounge wear as well as regular maternity wear.\",\n          \"Kitchen Utensil Kitchenware Curd Maker/Free Hand Blender for Egg & Cream Beater, Milkshake, Lassi, Butter Milk Mixer BeaterK Power Free Hand Blender Beating (Cream,Eggs,etc),Liquidizing(Tomato Soup, Dal etc),Churring(Milk Shake,Lassi Butter Milk etc.) Smoothly rotating gears are enclosed for protection and easy clean-up Non-slip grips on turning knob and contoured handle Non electrical, Handy and easy to operate Sturdy stainless steel Beaters can be removed easily for cleaning Beaters are elevated and continue to work while device rests on bottom of bowl Perfect for eggs, light batters, whipped cream\",\n          \"BEESCLOVER Mini Portable Handheld Lint Clothes Sweater Shaver Remover Dust Lint Remover for Fluff Fuzz Fabrics Black Manually Color Name:black   Description: Item type: Lint Remover Specification: Manual Dust Lint Remover Color: white, black Features -- Practical and reusable -- Easy to operate -- Easy operation Material: ABS Package includes: 1 x Dust Lint Remover Notes: 1-2mm error might exist due to manual measurements, please kindly understand. The colors deviation might differ due to different monitor settings.\"\n        ],\n        \"semantic_type\": \"\",\n        \"description\": \"\"\n      }\n    }\n  ]\n}",
                            "type": "dataframe",
                            "variable_name": "data"
                        },
                        "text/html": [
                            "\n",
                            "  <div id=\"df-77a81b3f-8048-41c1-903c-eaf1b50de601\" class=\"colab-df-container\">\n",
                            "    <div>\n",
                            "<style scoped>\n",
                            "    .dataframe tbody tr th:only-of-type {\n",
                            "        vertical-align: middle;\n",
                            "    }\n",
                            "\n",
                            "    .dataframe tbody tr th {\n",
                            "        vertical-align: top;\n",
                            "    }\n",
                            "\n",
                            "    .dataframe thead th {\n",
                            "        text-align: right;\n",
                            "    }\n",
                            "</style>\n",
                            "<table border=\"1\" class=\"dataframe\">\n",
                            "  <thead>\n",
                            "    <tr style=\"text-align: right;\">\n",
                            "      <th></th>\n",
                            "      <th>label</th>\n",
                            "      <th>product_description</th>\n",
                            "    </tr>\n",
                            "  </thead>\n",
                            "  <tbody>\n",
                            "    <tr>\n",
                            "      <th>0</th>\n",
                            "      <td>1</td>\n",
                            "      <td>SAF 'Floral' Framed Painting (Wood, 30 inch x ...</td>\n",
                            "    </tr>\n",
                            "    <tr>\n",
                            "      <th>1</th>\n",
                            "      <td>1</td>\n",
                            "      <td>SAF 'UV Textured Modern Art Print Framed' Pain...</td>\n",
                            "    </tr>\n",
                            "    <tr>\n",
                            "      <th>2</th>\n",
                            "      <td>1</td>\n",
                            "      <td>SAF Flower Print Framed Painting (Synthetic, 1...</td>\n",
                            "    </tr>\n",
                            "    <tr>\n",
                            "      <th>3</th>\n",
                            "      <td>1</td>\n",
                            "      <td>Incredible Gifts India Wooden Happy Birthday U...</td>\n",
                            "    </tr>\n",
                            "    <tr>\n",
                            "      <th>4</th>\n",
                            "      <td>1</td>\n",
                            "      <td>Pitaara Box Romantic Venice Canvas Painting 6m...</td>\n",
                            "    </tr>\n",
                            "  </tbody>\n",
                            "</table>\n",
                            "</div>\n",
                            "    <div class=\"colab-df-buttons\">\n",
                            "\n",
                            "  <div class=\"colab-df-container\">\n",
                            "    <button class=\"colab-df-convert\" onclick=\"convertToInteractive('df-77a81b3f-8048-41c1-903c-eaf1b50de601')\"\n",
                            "            title=\"Convert this dataframe to an interactive table.\"\n",
                            "            style=\"display:none;\">\n",
                            "\n",
                            "  <svg xmlns=\"http://www.w3.org/2000/svg\" height=\"24px\" viewBox=\"0 -960 960 960\">\n",
                            "    <path d=\"M120-120v-720h720v720H120Zm60-500h600v-160H180v160Zm220 220h160v-160H400v160Zm0 220h160v-160H400v160ZM180-400h160v-160H180v160Zm440 0h160v-160H620v160ZM180-180h160v-160H180v160Zm440 0h160v-160H620v160Z\"/>\n",
                            "  </svg>\n",
                            "    </button>\n",
                            "\n",
                            "  <style>\n",
                            "    .colab-df-container {\n",
                            "      display:flex;\n",
                            "      gap: 12px;\n",
                            "    }\n",
                            "\n",
                            "    .colab-df-convert {\n",
                            "      background-color: #E8F0FE;\n",
                            "      border: none;\n",
                            "      border-radius: 50%;\n",
                            "      cursor: pointer;\n",
                            "      display: none;\n",
                            "      fill: #1967D2;\n",
                            "      height: 32px;\n",
                            "      padding: 0 0 0 0;\n",
                            "      width: 32px;\n",
                            "    }\n",
                            "\n",
                            "    .colab-df-convert:hover {\n",
                            "      background-color: #E2EBFA;\n",
                            "      box-shadow: 0px 1px 2px rgba(60, 64, 67, 0.3), 0px 1px 3px 1px rgba(60, 64, 67, 0.15);\n",
                            "      fill: #174EA6;\n",
                            "    }\n",
                            "\n",
                            "    .colab-df-buttons div {\n",
                            "      margin-bottom: 4px;\n",
                            "    }\n",
                            "\n",
                            "    [theme=dark] .colab-df-convert {\n",
                            "      background-color: #3B4455;\n",
                            "      fill: #D2E3FC;\n",
                            "    }\n",
                            "\n",
                            "    [theme=dark] .colab-df-convert:hover {\n",
                            "      background-color: #434B5C;\n",
                            "      box-shadow: 0px 1px 3px 1px rgba(0, 0, 0, 0.15);\n",
                            "      filter: drop-shadow(0px 1px 2px rgba(0, 0, 0, 0.3));\n",
                            "      fill: #FFFFFF;\n",
                            "    }\n",
                            "  </style>\n",
                            "\n",
                            "    <script>\n",
                            "      const buttonEl =\n",
                            "        document.querySelector('#df-77a81b3f-8048-41c1-903c-eaf1b50de601 button.colab-df-convert');\n",
                            "      buttonEl.style.display =\n",
                            "        google.colab.kernel.accessAllowed ? 'block' : 'none';\n",
                            "\n",
                            "      async function convertToInteractive(key) {\n",
                            "        const element = document.querySelector('#df-77a81b3f-8048-41c1-903c-eaf1b50de601');\n",
                            "        const dataTable =\n",
                            "          await google.colab.kernel.invokeFunction('convertToInteractive',\n",
                            "                                                    [key], {});\n",
                            "        if (!dataTable) return;\n",
                            "\n",
                            "        const docLinkHtml = 'Like what you see? Visit the ' +\n",
                            "          '<a target=\"_blank\" href=https://colab.research.google.com/notebooks/data_table.ipynb>data table notebook</a>'\n",
                            "          + ' to learn more about interactive tables.';\n",
                            "        element.innerHTML = '';\n",
                            "        dataTable['output_type'] = 'display_data';\n",
                            "        await google.colab.output.renderOutput(dataTable, element);\n",
                            "        const docLink = document.createElement('div');\n",
                            "        docLink.innerHTML = docLinkHtml;\n",
                            "        element.appendChild(docLink);\n",
                            "      }\n",
                            "    </script>\n",
                            "  </div>\n",
                            "\n",
                            "\n",
                            "    <div id=\"df-ae5eac3a-db51-4b34-91da-2d4b39efedbe\">\n",
                            "      <button class=\"colab-df-quickchart\" onclick=\"quickchart('df-ae5eac3a-db51-4b34-91da-2d4b39efedbe')\"\n",
                            "                title=\"Suggest charts\"\n",
                            "                style=\"display:none;\">\n",
                            "\n",
                            "<svg xmlns=\"http://www.w3.org/2000/svg\" height=\"24px\"viewBox=\"0 0 24 24\"\n",
                            "     width=\"24px\">\n",
                            "    <g>\n",
                            "        <path d=\"M19 3H5c-1.1 0-2 .9-2 2v14c0 1.1.9 2 2 2h14c1.1 0 2-.9 2-2V5c0-1.1-.9-2-2-2zM9 17H7v-7h2v7zm4 0h-2V7h2v10zm4 0h-2v-4h2v4z\"/>\n",
                            "    </g>\n",
                            "</svg>\n",
                            "      </button>\n",
                            "\n",
                            "<style>\n",
                            "  .colab-df-quickchart {\n",
                            "      --bg-color: #E8F0FE;\n",
                            "      --fill-color: #1967D2;\n",
                            "      --hover-bg-color: #E2EBFA;\n",
                            "      --hover-fill-color: #174EA6;\n",
                            "      --disabled-fill-color: #AAA;\n",
                            "      --disabled-bg-color: #DDD;\n",
                            "  }\n",
                            "\n",
                            "  [theme=dark] .colab-df-quickchart {\n",
                            "      --bg-color: #3B4455;\n",
                            "      --fill-color: #D2E3FC;\n",
                            "      --hover-bg-color: #434B5C;\n",
                            "      --hover-fill-color: #FFFFFF;\n",
                            "      --disabled-bg-color: #3B4455;\n",
                            "      --disabled-fill-color: #666;\n",
                            "  }\n",
                            "\n",
                            "  .colab-df-quickchart {\n",
                            "    background-color: var(--bg-color);\n",
                            "    border: none;\n",
                            "    border-radius: 50%;\n",
                            "    cursor: pointer;\n",
                            "    display: none;\n",
                            "    fill: var(--fill-color);\n",
                            "    height: 32px;\n",
                            "    padding: 0;\n",
                            "    width: 32px;\n",
                            "  }\n",
                            "\n",
                            "  .colab-df-quickchart:hover {\n",
                            "    background-color: var(--hover-bg-color);\n",
                            "    box-shadow: 0 1px 2px rgba(60, 64, 67, 0.3), 0 1px 3px 1px rgba(60, 64, 67, 0.15);\n",
                            "    fill: var(--button-hover-fill-color);\n",
                            "  }\n",
                            "\n",
                            "  .colab-df-quickchart-complete:disabled,\n",
                            "  .colab-df-quickchart-complete:disabled:hover {\n",
                            "    background-color: var(--disabled-bg-color);\n",
                            "    fill: var(--disabled-fill-color);\n",
                            "    box-shadow: none;\n",
                            "  }\n",
                            "\n",
                            "  .colab-df-spinner {\n",
                            "    border: 2px solid var(--fill-color);\n",
                            "    border-color: transparent;\n",
                            "    border-bottom-color: var(--fill-color);\n",
                            "    animation:\n",
                            "      spin 1s steps(1) infinite;\n",
                            "  }\n",
                            "\n",
                            "  @keyframes spin {\n",
                            "    0% {\n",
                            "      border-color: transparent;\n",
                            "      border-bottom-color: var(--fill-color);\n",
                            "      border-left-color: var(--fill-color);\n",
                            "    }\n",
                            "    20% {\n",
                            "      border-color: transparent;\n",
                            "      border-left-color: var(--fill-color);\n",
                            "      border-top-color: var(--fill-color);\n",
                            "    }\n",
                            "    30% {\n",
                            "      border-color: transparent;\n",
                            "      border-left-color: var(--fill-color);\n",
                            "      border-top-color: var(--fill-color);\n",
                            "      border-right-color: var(--fill-color);\n",
                            "    }\n",
                            "    40% {\n",
                            "      border-color: transparent;\n",
                            "      border-right-color: var(--fill-color);\n",
                            "      border-top-color: var(--fill-color);\n",
                            "    }\n",
                            "    60% {\n",
                            "      border-color: transparent;\n",
                            "      border-right-color: var(--fill-color);\n",
                            "    }\n",
                            "    80% {\n",
                            "      border-color: transparent;\n",
                            "      border-right-color: var(--fill-color);\n",
                            "      border-bottom-color: var(--fill-color);\n",
                            "    }\n",
                            "    90% {\n",
                            "      border-color: transparent;\n",
                            "      border-bottom-color: var(--fill-color);\n",
                            "    }\n",
                            "  }\n",
                            "</style>\n",
                            "\n",
                            "      <script>\n",
                            "        async function quickchart(key) {\n",
                            "          const quickchartButtonEl =\n",
                            "            document.querySelector('#' + key + ' button');\n",
                            "          quickchartButtonEl.disabled = true;  // To prevent multiple clicks.\n",
                            "          quickchartButtonEl.classList.add('colab-df-spinner');\n",
                            "          try {\n",
                            "            const charts = await google.colab.kernel.invokeFunction(\n",
                            "                'suggestCharts', [key], {});\n",
                            "          } catch (error) {\n",
                            "            console.error('Error during call to suggestCharts:', error);\n",
                            "          }\n",
                            "          quickchartButtonEl.classList.remove('colab-df-spinner');\n",
                            "          quickchartButtonEl.classList.add('colab-df-quickchart-complete');\n",
                            "        }\n",
                            "        (() => {\n",
                            "          let quickchartButtonEl =\n",
                            "            document.querySelector('#df-ae5eac3a-db51-4b34-91da-2d4b39efedbe button');\n",
                            "          quickchartButtonEl.style.display =\n",
                            "            google.colab.kernel.accessAllowed ? 'block' : 'none';\n",
                            "        })();\n",
                            "      </script>\n",
                            "    </div>\n",
                            "\n",
                            "    </div>\n",
                            "  </div>\n"
                        ],
                        "text/plain": [
                            "   label                                product_description\n",
                            "0      1  SAF 'Floral' Framed Painting (Wood, 30 inch x ...\n",
                            "1      1  SAF 'UV Textured Modern Art Print Framed' Pain...\n",
                            "2      1  SAF Flower Print Framed Painting (Synthetic, 1...\n",
                            "3      1  Incredible Gifts India Wooden Happy Birthday U...\n",
                            "4      1  Pitaara Box Romantic Venice Canvas Painting 6m..."
                        ]
                    },
                    "execution_count": 19,
                    "metadata": {},
                    "output_type": "execute_result"
                }
            ],
            "source": [
                "data.head()"
            ]
        },
        {
            "cell_type": "markdown",
            "id": "a874dab5",
            "metadata": {
                "id": "a874dab5"
            },
            "source": [
                "### Text Cleaning\n",
                "\n",
                "Product descriptions are normalized by converting all text to lowercase, removing punctuation, and standardizing whitespace. These steps help reduce noise and improve consistency for better model training."
            ]
        },
        {
            "cell_type": "code",
            "execution_count": 20,
            "id": "adf968be",
            "metadata": {
                "executionInfo": {
                    "elapsed": 2836,
                    "status": "ok",
                    "timestamp": 1755955817636,
                    "user": {
                        "displayName": "Virginia Herrero",
                        "userId": "16104809763584669928"
                    },
                    "user_tz": -120
                },
                "id": "adf968be"
            },
            "outputs": [],
            "source": [
                "# Function to normalize and clean the product description text\n",
                "def clean_text(text):\n",
                "    if isinstance(text, str):\n",
                "        text = text.lower()                         # Lowercase everything\n",
                "        text = re.sub(r\"[^a-zA-Z0-9\\s]\", \"\", text)  # Remove punctuation and special chars\n",
                "        text = re.sub(r\"\\s+\", \" \", text)            # Replace multiple spaces with one\n",
                "        return text.strip()\n",
                "    return \"\"\n",
                "\n",
                "# Apply text cleaning\n",
                "data[\"product_description\"] = data[\"product_description\"].apply(clean_text)"
            ]
        },
        {
            "cell_type": "code",
            "execution_count": 21,
            "id": "095cc2de",
            "metadata": {
                "colab": {
                    "base_uri": "https://localhost:8080/",
                    "height": 206
                },
                "executionInfo": {
                    "elapsed": 122,
                    "status": "ok",
                    "timestamp": 1755955817802,
                    "user": {
                        "displayName": "Virginia Herrero",
                        "userId": "16104809763584669928"
                    },
                    "user_tz": -120
                },
                "id": "095cc2de",
                "outputId": "c3dd0f32-5377-4a62-e06f-05d08986b166"
            },
            "outputs": [
                {
                    "data": {
                        "application/vnd.google.colaboratory.intrinsic+json": {
                            "summary": "{\n  \"name\": \"data\",\n  \"rows\": 27801,\n  \"fields\": [\n    {\n      \"column\": \"label\",\n      \"properties\": {\n        \"dtype\": \"number\",\n        \"std\": 1,\n        \"min\": 0,\n        \"max\": 3,\n        \"num_unique_values\": 4,\n        \"samples\": [\n          2,\n          0,\n          1\n        ],\n        \"semantic_type\": \"\",\n        \"description\": \"\"\n      }\n    },\n    {\n      \"column\": \"product_description\",\n      \"properties\": {\n        \"dtype\": \"string\",\n        \"num_unique_values\": 27711,\n        \"samples\": [\n          \"jaipurcrafts combo of 12inch bombino glass iron hookah 10 disk and hookah jaipurcrafts hookahs come in amazing designs and are made using materials of the finest quality to light up any atmosphere it is a superconvenient product making you enjoy it from the moment you receive it our scientific designs enables it to retain and release a decent amount of smoke allowing for a more enjoyable smoking experience unlimited fun with minimal fuss this hookah is easy to set up it can also be disassembled for convenient storage making it easy for you to take it along with you even when travelling appealing colors classy and stylish this hookah is just perfect for enhancing the look of your glassware collection with attractive colors this hookah can be a surprise gift for your friend durable material jaipurcrafts pay speacial attention in using materials which make your hookahs last for a very long time safety first most of the components used in jaipurcrafts hookahs are heat resistant our special smoking pipe allows you take in and blow out a decent amount of smoke so you have the perfect excuse to chill with your friends\",\n          \"zeyo womens cotton blue peach feeding dress floral print maternity night dress zeyo indian nightwear brand life is too short to buy offline zeyo is backed and promoted by young energetic team which ensures highest quality for our products we dont mistake fashion for function our nightwear products is stylish in design but we have not forgot the true intended purpose of a sleepwear so our nightwear not compromise function in the name of fashion be it a sleepover pyjama party a day time nap or bedtime wear a comfortable outfit is integral to ensure a good night sleep full length pant with elastic and drawstring waist the comfort of cotton bio washed mid weight soft and cozy cotton fit you can trust true to size chart refer last product images made in india great as a gift this stylish night suit for women makes a perfect gift no matter who you are buying for zeyo nightwear night dress products pajama sets cotton night suit buttonfront nightshirt 3 piece nightwear bermuda short pajama set capri set slip long top maternity nursing feeding nigh suit maternity nursing feeding short nighty night gown visit our amazon store front for more such premium nightwear collection\",\n          \"wd elements 1tb portable external hard drive black\"\n        ],\n        \"semantic_type\": \"\",\n        \"description\": \"\"\n      }\n    }\n  ]\n}",
                            "type": "dataframe",
                            "variable_name": "data"
                        },
                        "text/html": [
                            "\n",
                            "  <div id=\"df-00e83840-e335-4867-948c-45a909352dff\" class=\"colab-df-container\">\n",
                            "    <div>\n",
                            "<style scoped>\n",
                            "    .dataframe tbody tr th:only-of-type {\n",
                            "        vertical-align: middle;\n",
                            "    }\n",
                            "\n",
                            "    .dataframe tbody tr th {\n",
                            "        vertical-align: top;\n",
                            "    }\n",
                            "\n",
                            "    .dataframe thead th {\n",
                            "        text-align: right;\n",
                            "    }\n",
                            "</style>\n",
                            "<table border=\"1\" class=\"dataframe\">\n",
                            "  <thead>\n",
                            "    <tr style=\"text-align: right;\">\n",
                            "      <th></th>\n",
                            "      <th>label</th>\n",
                            "      <th>product_description</th>\n",
                            "    </tr>\n",
                            "  </thead>\n",
                            "  <tbody>\n",
                            "    <tr>\n",
                            "      <th>0</th>\n",
                            "      <td>1</td>\n",
                            "      <td>saf floral framed painting wood 30 inch x 10 i...</td>\n",
                            "    </tr>\n",
                            "    <tr>\n",
                            "      <th>1</th>\n",
                            "      <td>1</td>\n",
                            "      <td>saf uv textured modern art print framed painti...</td>\n",
                            "    </tr>\n",
                            "    <tr>\n",
                            "      <th>2</th>\n",
                            "      <td>1</td>\n",
                            "      <td>saf flower print framed painting synthetic 135...</td>\n",
                            "    </tr>\n",
                            "    <tr>\n",
                            "      <th>3</th>\n",
                            "      <td>1</td>\n",
                            "      <td>incredible gifts india wooden happy birthday u...</td>\n",
                            "    </tr>\n",
                            "    <tr>\n",
                            "      <th>4</th>\n",
                            "      <td>1</td>\n",
                            "      <td>pitaara box romantic venice canvas painting 6m...</td>\n",
                            "    </tr>\n",
                            "  </tbody>\n",
                            "</table>\n",
                            "</div>\n",
                            "    <div class=\"colab-df-buttons\">\n",
                            "\n",
                            "  <div class=\"colab-df-container\">\n",
                            "    <button class=\"colab-df-convert\" onclick=\"convertToInteractive('df-00e83840-e335-4867-948c-45a909352dff')\"\n",
                            "            title=\"Convert this dataframe to an interactive table.\"\n",
                            "            style=\"display:none;\">\n",
                            "\n",
                            "  <svg xmlns=\"http://www.w3.org/2000/svg\" height=\"24px\" viewBox=\"0 -960 960 960\">\n",
                            "    <path d=\"M120-120v-720h720v720H120Zm60-500h600v-160H180v160Zm220 220h160v-160H400v160Zm0 220h160v-160H400v160ZM180-400h160v-160H180v160Zm440 0h160v-160H620v160ZM180-180h160v-160H180v160Zm440 0h160v-160H620v160Z\"/>\n",
                            "  </svg>\n",
                            "    </button>\n",
                            "\n",
                            "  <style>\n",
                            "    .colab-df-container {\n",
                            "      display:flex;\n",
                            "      gap: 12px;\n",
                            "    }\n",
                            "\n",
                            "    .colab-df-convert {\n",
                            "      background-color: #E8F0FE;\n",
                            "      border: none;\n",
                            "      border-radius: 50%;\n",
                            "      cursor: pointer;\n",
                            "      display: none;\n",
                            "      fill: #1967D2;\n",
                            "      height: 32px;\n",
                            "      padding: 0 0 0 0;\n",
                            "      width: 32px;\n",
                            "    }\n",
                            "\n",
                            "    .colab-df-convert:hover {\n",
                            "      background-color: #E2EBFA;\n",
                            "      box-shadow: 0px 1px 2px rgba(60, 64, 67, 0.3), 0px 1px 3px 1px rgba(60, 64, 67, 0.15);\n",
                            "      fill: #174EA6;\n",
                            "    }\n",
                            "\n",
                            "    .colab-df-buttons div {\n",
                            "      margin-bottom: 4px;\n",
                            "    }\n",
                            "\n",
                            "    [theme=dark] .colab-df-convert {\n",
                            "      background-color: #3B4455;\n",
                            "      fill: #D2E3FC;\n",
                            "    }\n",
                            "\n",
                            "    [theme=dark] .colab-df-convert:hover {\n",
                            "      background-color: #434B5C;\n",
                            "      box-shadow: 0px 1px 3px 1px rgba(0, 0, 0, 0.15);\n",
                            "      filter: drop-shadow(0px 1px 2px rgba(0, 0, 0, 0.3));\n",
                            "      fill: #FFFFFF;\n",
                            "    }\n",
                            "  </style>\n",
                            "\n",
                            "    <script>\n",
                            "      const buttonEl =\n",
                            "        document.querySelector('#df-00e83840-e335-4867-948c-45a909352dff button.colab-df-convert');\n",
                            "      buttonEl.style.display =\n",
                            "        google.colab.kernel.accessAllowed ? 'block' : 'none';\n",
                            "\n",
                            "      async function convertToInteractive(key) {\n",
                            "        const element = document.querySelector('#df-00e83840-e335-4867-948c-45a909352dff');\n",
                            "        const dataTable =\n",
                            "          await google.colab.kernel.invokeFunction('convertToInteractive',\n",
                            "                                                    [key], {});\n",
                            "        if (!dataTable) return;\n",
                            "\n",
                            "        const docLinkHtml = 'Like what you see? Visit the ' +\n",
                            "          '<a target=\"_blank\" href=https://colab.research.google.com/notebooks/data_table.ipynb>data table notebook</a>'\n",
                            "          + ' to learn more about interactive tables.';\n",
                            "        element.innerHTML = '';\n",
                            "        dataTable['output_type'] = 'display_data';\n",
                            "        await google.colab.output.renderOutput(dataTable, element);\n",
                            "        const docLink = document.createElement('div');\n",
                            "        docLink.innerHTML = docLinkHtml;\n",
                            "        element.appendChild(docLink);\n",
                            "      }\n",
                            "    </script>\n",
                            "  </div>\n",
                            "\n",
                            "\n",
                            "    <div id=\"df-49993cf3-1e10-4ceb-8ed5-6ba85b770797\">\n",
                            "      <button class=\"colab-df-quickchart\" onclick=\"quickchart('df-49993cf3-1e10-4ceb-8ed5-6ba85b770797')\"\n",
                            "                title=\"Suggest charts\"\n",
                            "                style=\"display:none;\">\n",
                            "\n",
                            "<svg xmlns=\"http://www.w3.org/2000/svg\" height=\"24px\"viewBox=\"0 0 24 24\"\n",
                            "     width=\"24px\">\n",
                            "    <g>\n",
                            "        <path d=\"M19 3H5c-1.1 0-2 .9-2 2v14c0 1.1.9 2 2 2h14c1.1 0 2-.9 2-2V5c0-1.1-.9-2-2-2zM9 17H7v-7h2v7zm4 0h-2V7h2v10zm4 0h-2v-4h2v4z\"/>\n",
                            "    </g>\n",
                            "</svg>\n",
                            "      </button>\n",
                            "\n",
                            "<style>\n",
                            "  .colab-df-quickchart {\n",
                            "      --bg-color: #E8F0FE;\n",
                            "      --fill-color: #1967D2;\n",
                            "      --hover-bg-color: #E2EBFA;\n",
                            "      --hover-fill-color: #174EA6;\n",
                            "      --disabled-fill-color: #AAA;\n",
                            "      --disabled-bg-color: #DDD;\n",
                            "  }\n",
                            "\n",
                            "  [theme=dark] .colab-df-quickchart {\n",
                            "      --bg-color: #3B4455;\n",
                            "      --fill-color: #D2E3FC;\n",
                            "      --hover-bg-color: #434B5C;\n",
                            "      --hover-fill-color: #FFFFFF;\n",
                            "      --disabled-bg-color: #3B4455;\n",
                            "      --disabled-fill-color: #666;\n",
                            "  }\n",
                            "\n",
                            "  .colab-df-quickchart {\n",
                            "    background-color: var(--bg-color);\n",
                            "    border: none;\n",
                            "    border-radius: 50%;\n",
                            "    cursor: pointer;\n",
                            "    display: none;\n",
                            "    fill: var(--fill-color);\n",
                            "    height: 32px;\n",
                            "    padding: 0;\n",
                            "    width: 32px;\n",
                            "  }\n",
                            "\n",
                            "  .colab-df-quickchart:hover {\n",
                            "    background-color: var(--hover-bg-color);\n",
                            "    box-shadow: 0 1px 2px rgba(60, 64, 67, 0.3), 0 1px 3px 1px rgba(60, 64, 67, 0.15);\n",
                            "    fill: var(--button-hover-fill-color);\n",
                            "  }\n",
                            "\n",
                            "  .colab-df-quickchart-complete:disabled,\n",
                            "  .colab-df-quickchart-complete:disabled:hover {\n",
                            "    background-color: var(--disabled-bg-color);\n",
                            "    fill: var(--disabled-fill-color);\n",
                            "    box-shadow: none;\n",
                            "  }\n",
                            "\n",
                            "  .colab-df-spinner {\n",
                            "    border: 2px solid var(--fill-color);\n",
                            "    border-color: transparent;\n",
                            "    border-bottom-color: var(--fill-color);\n",
                            "    animation:\n",
                            "      spin 1s steps(1) infinite;\n",
                            "  }\n",
                            "\n",
                            "  @keyframes spin {\n",
                            "    0% {\n",
                            "      border-color: transparent;\n",
                            "      border-bottom-color: var(--fill-color);\n",
                            "      border-left-color: var(--fill-color);\n",
                            "    }\n",
                            "    20% {\n",
                            "      border-color: transparent;\n",
                            "      border-left-color: var(--fill-color);\n",
                            "      border-top-color: var(--fill-color);\n",
                            "    }\n",
                            "    30% {\n",
                            "      border-color: transparent;\n",
                            "      border-left-color: var(--fill-color);\n",
                            "      border-top-color: var(--fill-color);\n",
                            "      border-right-color: var(--fill-color);\n",
                            "    }\n",
                            "    40% {\n",
                            "      border-color: transparent;\n",
                            "      border-right-color: var(--fill-color);\n",
                            "      border-top-color: var(--fill-color);\n",
                            "    }\n",
                            "    60% {\n",
                            "      border-color: transparent;\n",
                            "      border-right-color: var(--fill-color);\n",
                            "    }\n",
                            "    80% {\n",
                            "      border-color: transparent;\n",
                            "      border-right-color: var(--fill-color);\n",
                            "      border-bottom-color: var(--fill-color);\n",
                            "    }\n",
                            "    90% {\n",
                            "      border-color: transparent;\n",
                            "      border-bottom-color: var(--fill-color);\n",
                            "    }\n",
                            "  }\n",
                            "</style>\n",
                            "\n",
                            "      <script>\n",
                            "        async function quickchart(key) {\n",
                            "          const quickchartButtonEl =\n",
                            "            document.querySelector('#' + key + ' button');\n",
                            "          quickchartButtonEl.disabled = true;  // To prevent multiple clicks.\n",
                            "          quickchartButtonEl.classList.add('colab-df-spinner');\n",
                            "          try {\n",
                            "            const charts = await google.colab.kernel.invokeFunction(\n",
                            "                'suggestCharts', [key], {});\n",
                            "          } catch (error) {\n",
                            "            console.error('Error during call to suggestCharts:', error);\n",
                            "          }\n",
                            "          quickchartButtonEl.classList.remove('colab-df-spinner');\n",
                            "          quickchartButtonEl.classList.add('colab-df-quickchart-complete');\n",
                            "        }\n",
                            "        (() => {\n",
                            "          let quickchartButtonEl =\n",
                            "            document.querySelector('#df-49993cf3-1e10-4ceb-8ed5-6ba85b770797 button');\n",
                            "          quickchartButtonEl.style.display =\n",
                            "            google.colab.kernel.accessAllowed ? 'block' : 'none';\n",
                            "        })();\n",
                            "      </script>\n",
                            "    </div>\n",
                            "\n",
                            "    </div>\n",
                            "  </div>\n"
                        ],
                        "text/plain": [
                            "   label                                product_description\n",
                            "0      1  saf floral framed painting wood 30 inch x 10 i...\n",
                            "1      1  saf uv textured modern art print framed painti...\n",
                            "2      1  saf flower print framed painting synthetic 135...\n",
                            "3      1  incredible gifts india wooden happy birthday u...\n",
                            "4      1  pitaara box romantic venice canvas painting 6m..."
                        ]
                    },
                    "execution_count": 21,
                    "metadata": {},
                    "output_type": "execute_result"
                }
            ],
            "source": [
                "data.head()"
            ]
        },
        {
            "cell_type": "markdown",
            "id": "15a2d43c",
            "metadata": {
                "id": "15a2d43c"
            },
            "source": [
                "### Shuffle the Data\n",
                "\n",
                "The dataset is shuffled to introduce randomness, helping prevent any order-related bias before training begins."
            ]
        },
        {
            "cell_type": "code",
            "execution_count": 22,
            "id": "4e8c5d32",
            "metadata": {
                "executionInfo": {
                    "elapsed": 38,
                    "status": "ok",
                    "timestamp": 1755955817850,
                    "user": {
                        "displayName": "Virginia Herrero",
                        "userId": "16104809763584669928"
                    },
                    "user_tz": -120
                },
                "id": "4e8c5d32"
            },
            "outputs": [],
            "source": [
                "data = shuffle(data, random_state = 42).reset_index(drop = True)"
            ]
        },
        {
            "cell_type": "code",
            "execution_count": 23,
            "id": "klsft9zOp8Km",
            "metadata": {
                "executionInfo": {
                    "elapsed": 2377,
                    "status": "ok",
                    "timestamp": 1755955820269,
                    "user": {
                        "displayName": "Virginia Herrero",
                        "userId": "16104809763584669928"
                    },
                    "user_tz": -120
                },
                "id": "klsft9zOp8Km"
            },
            "outputs": [],
            "source": [
                "# Save the cleaned dataset\n",
                "data.to_csv(PROCESSED_DIR / \"ecomm_data_cleaned.csv\")"
            ]
        },
        {
            "cell_type": "markdown",
            "id": "2419c085",
            "metadata": {
                "id": "2419c085"
            },
            "source": [
                "## Data Split\n",
                "\n",
                "The dataset is divided into training and testing sets to evaluate the model’s performance on unseen data. This split helps ensure the model generalizes well beyond the data it was trained on."
            ]
        },
        {
            "cell_type": "code",
            "execution_count": 24,
            "id": "5108e638",
            "metadata": {
                "executionInfo": {
                    "elapsed": 38,
                    "status": "ok",
                    "timestamp": 1755955820278,
                    "user": {
                        "displayName": "Virginia Herrero",
                        "userId": "16104809763584669928"
                    },
                    "user_tz": -120
                },
                "id": "5108e638"
            },
            "outputs": [],
            "source": [
                "# Split data with stratification to keep label distribution balanced\n",
                "train_df, test_df = train_test_split(\n",
                "    data,\n",
                "    test_size = 0.1,\n",
                "    stratify = data[\"label\"],\n",
                "    random_state = 42\n",
                ")"
            ]
        },
        {
            "cell_type": "code",
            "execution_count": 25,
            "id": "30ad5527",
            "metadata": {
                "executionInfo": {
                    "elapsed": 44,
                    "status": "ok",
                    "timestamp": 1755955820297,
                    "user": {
                        "displayName": "Virginia Herrero",
                        "userId": "16104809763584669928"
                    },
                    "user_tz": -120
                },
                "id": "30ad5527"
            },
            "outputs": [],
            "source": [
                "# Convert pandas DataFrames to Hugging Face Datasets\n",
                "train_dataset = Dataset.from_pandas(train_df.reset_index(drop = True))\n",
                "test_dataset = Dataset.from_pandas(test_df.reset_index(drop = True))"
            ]
        },
        {
            "cell_type": "markdown",
            "id": "d413a551",
            "metadata": {
                "id": "d413a551"
            },
            "source": [
                "## Tokenization\n",
                "\n",
                "Product descriptions are converted into tokens using a pretrained DistilBert tokenizer. Each text is truncated or padded to a fixed length so the model receives consistent input sizes. The tokenized data is then formatted as PyTorch tensors, keeping only the input IDs, attention masks, and labels needed for training."
            ]
        },
        {
            "cell_type": "code",
            "execution_count": 26,
            "id": "1c4324bc",
            "metadata": {
                "colab": {
                    "base_uri": "https://localhost:8080/",
                    "height": 333,
                    "referenced_widgets": [
                        "9a0415bb707249739f5f976f7dc7dd69",
                        "0bb7f7402b304b1c9c200701d5effbbc",
                        "1fc7720ccbb843ab8509f64ab3811ca6",
                        "55752c4b0b884699a30f4429548e6142",
                        "8d8ac948ec124bacb4a6187e273f518f",
                        "102fe567e94e4839b3a6dc458a8fbcce",
                        "30812b65b12b4faf8b39bf3595e585cc",
                        "ff9241dcd71a491a9d3b498e08d5099c",
                        "243eb21a853f496c9cb3cbab90272fe0",
                        "dc36d9aeb4714d5aa077de489eee7d9d",
                        "0c1e9b54778844d49bf871fa31972a09",
                        "e1cac9226b734dfaab7664c0e490a47c",
                        "3062d55b35bc48b89d40f58c04609a2a",
                        "82c9bbd2b96d490aad18e3c82ebce4a8",
                        "035dbd1e2f534751b9055276136f4981",
                        "942d7dd4908946eeb865c7ce0f9e5384",
                        "a05fe1be1e934967a84271aaab74d7ab",
                        "78260163ab8d40bf88d23cabe4a21372",
                        "327e92679626496e950d9a2a92f74c30",
                        "ebd107d1ec2c4b118dfc594938ea7e38",
                        "c027712ff67d46a7af60928166ed8229",
                        "8a6a8faa763b43bbb3704a96237f75f2",
                        "218e2969d9c14263826b0325688fa32e",
                        "eccf60313a1a4890a74ce4fe7d71a89c",
                        "aa26ae95c1614b3aa72af90e050c6e54",
                        "b4661e4329704208af7b6606092bbffe",
                        "713682038f1e4197b942c88f45570b3e",
                        "49a1bfbb74bc4adea6c7fbf23edd5dd6",
                        "e9b4fb9169ba402fab721904d884c4a3",
                        "bd7e60bcf17e4792859e17d5eaacab9a",
                        "a5189110e67d47c99a933f1ce5174320",
                        "20ca0df64b104ce88e7a37e837e75f96",
                        "3e5148cacff0424f83d32828534a2c7d",
                        "c1d198f697d04218a83b92f2063df50f",
                        "2060c0d4281b48c985b29fcdf78c3d8f",
                        "87099cd22f3b44e7b098434cc69ab9f7",
                        "129bf6825f5a4276981fe33d573a9d71",
                        "91e92a18d58145faa2550bd252df521b",
                        "e68115b29d6840faa76bdad1ae69e823",
                        "e3a5108fc0854057b4115432c1ec0346",
                        "4879afd8ea3943b599a4f507adcf24a3",
                        "89cbc0c22fd44b48a215cf8c2a1e53ec",
                        "07053f105d404ff4b8526891f9f7b803",
                        "9422068f348f4d6486fdf65b59919b27",
                        "cd1983b891c744149df031e27522976e",
                        "51a570c2cebf4acaa13aafea1e263501",
                        "6befe504063145a2b058593e8c2c20fd",
                        "08fa30604683454f841ba01e2159157d",
                        "a4fc444a7f45444e81a9f155f57e536d",
                        "735b526ce22743fba88bcec8601a83cf",
                        "6b260091edf7433d9b60be5c20a2886b",
                        "df9d5d25a5194f4da381b40be37d9351",
                        "bae5f59378d840a89bbd66898d3532c9",
                        "12e6a9484f8a41b8b7859a015d47bd99",
                        "ab65c64f83334c5cb81a40e4e5177a6f",
                        "653eae71b4a7484b93c7cc9a93aed2f5",
                        "236829ba220a436aa6b57a93be9d0a4b",
                        "6cce1ce51a32417f971dcac86787626a",
                        "25d79f004faa48fc884f3dfd8e507b32",
                        "b805959fea8f4c69837993007c61c816",
                        "41e4c41631f8452ea98e10c2a38cee5c",
                        "f5abfbb583b24872a0be7b8325403edd",
                        "1a3925d970654c529545521bcb109945",
                        "56c55a259c374ad5b1b5ece1b5d80dd5",
                        "5944b65275cd41dc91b7884d2a8c6375",
                        "c19a21e234964c8bbd96cecc79cdd1bb"
                    ]
                },
                "executionInfo": {
                    "elapsed": 88553,
                    "status": "ok",
                    "timestamp": 1755955908855,
                    "user": {
                        "displayName": "Virginia Herrero",
                        "userId": "16104809763584669928"
                    },
                    "user_tz": -120
                },
                "id": "1c4324bc",
                "outputId": "9256f09e-53cd-4539-96fb-e93c1e162ade"
            },
            "outputs": [
                {
                    "name": "stderr",
                    "output_type": "stream",
                    "text": [
                        "/usr/local/lib/python3.12/dist-packages/huggingface_hub/utils/_auth.py:94: UserWarning: \n",
                        "The secret `HF_TOKEN` does not exist in your Colab secrets.\n",
                        "To authenticate with the Hugging Face Hub, create a token in your settings tab (https://huggingface.co/settings/tokens), set it as secret in your Google Colab and restart your session.\n",
                        "You will be able to reuse this secret in all of your notebooks.\n",
                        "Please note that authentication is recommended but still optional to access public models or datasets.\n",
                        "  warnings.warn(\n"
                    ]
                },
                {
                    "data": {
                        "application/vnd.jupyter.widget-view+json": {
                            "model_id": "9a0415bb707249739f5f976f7dc7dd69",
                            "version_major": 2,
                            "version_minor": 0
                        },
                        "text/plain": [
                            "tokenizer_config.json:   0%|          | 0.00/48.0 [00:00<?, ?B/s]"
                        ]
                    },
                    "metadata": {},
                    "output_type": "display_data"
                },
                {
                    "data": {
                        "application/vnd.jupyter.widget-view+json": {
                            "model_id": "e1cac9226b734dfaab7664c0e490a47c",
                            "version_major": 2,
                            "version_minor": 0
                        },
                        "text/plain": [
                            "vocab.txt:   0%|          | 0.00/232k [00:00<?, ?B/s]"
                        ]
                    },
                    "metadata": {},
                    "output_type": "display_data"
                },
                {
                    "data": {
                        "application/vnd.jupyter.widget-view+json": {
                            "model_id": "218e2969d9c14263826b0325688fa32e",
                            "version_major": 2,
                            "version_minor": 0
                        },
                        "text/plain": [
                            "tokenizer.json:   0%|          | 0.00/466k [00:00<?, ?B/s]"
                        ]
                    },
                    "metadata": {},
                    "output_type": "display_data"
                },
                {
                    "data": {
                        "application/vnd.jupyter.widget-view+json": {
                            "model_id": "c1d198f697d04218a83b92f2063df50f",
                            "version_major": 2,
                            "version_minor": 0
                        },
                        "text/plain": [
                            "config.json:   0%|          | 0.00/483 [00:00<?, ?B/s]"
                        ]
                    },
                    "metadata": {},
                    "output_type": "display_data"
                },
                {
                    "data": {
                        "application/vnd.jupyter.widget-view+json": {
                            "model_id": "cd1983b891c744149df031e27522976e",
                            "version_major": 2,
                            "version_minor": 0
                        },
                        "text/plain": [
                            "Map:   0%|          | 0/25020 [00:00<?, ? examples/s]"
                        ]
                    },
                    "metadata": {},
                    "output_type": "display_data"
                },
                {
                    "data": {
                        "application/vnd.jupyter.widget-view+json": {
                            "model_id": "653eae71b4a7484b93c7cc9a93aed2f5",
                            "version_major": 2,
                            "version_minor": 0
                        },
                        "text/plain": [
                            "Map:   0%|          | 0/2781 [00:00<?, ? examples/s]"
                        ]
                    },
                    "metadata": {},
                    "output_type": "display_data"
                }
            ],
            "source": [
                "# Initialize tokenizer\n",
                "tokenizer = DistilBertTokenizer.from_pretrained(\"distilbert-base-uncased\")\n",
                "\n",
                "# Tokenization function with truncation and padding\n",
                "def tokenize_function(examples):\n",
                "    return tokenizer(examples[\"product_description\"], truncation = True, padding = \"max_length\", max_length = 128)\n",
                "\n",
                "# Apply tokenization\n",
                "train_tokens = train_dataset.map(tokenize_function, batched = True)\n",
                "test_tokens = test_dataset.map(tokenize_function, batched = True)\n",
                "\n",
                "# Set format for PyTorch tensors and keep only necessary columns\n",
                "columns_to_return = [\"input_ids\", \"attention_mask\", \"label\"]\n",
                "train_tokens.set_format(type = \"torch\", columns = columns_to_return)\n",
                "test_tokens.set_format(type = \"torch\", columns = columns_to_return)"
            ]
        },
        {
            "cell_type": "markdown",
            "id": "0ffa31fd",
            "metadata": {
                "id": "0ffa31fd"
            },
            "source": [
                "## Data Collator\n",
                "\n",
                "This data collator pads input sequences dynamically to match the longest one in each batch. This makes training more efficient compared to padding all inputs to a fixed maximum length."
            ]
        },
        {
            "cell_type": "code",
            "execution_count": 27,
            "id": "d3c16be0",
            "metadata": {
                "executionInfo": {
                    "elapsed": 39,
                    "status": "ok",
                    "timestamp": 1755955908935,
                    "user": {
                        "displayName": "Virginia Herrero",
                        "userId": "16104809763584669928"
                    },
                    "user_tz": -120
                },
                "id": "d3c16be0"
            },
            "outputs": [],
            "source": [
                "data_collator = DataCollatorWithPadding(tokenizer = tokenizer)"
            ]
        },
        {
            "cell_type": "markdown",
            "id": "f9032f75",
            "metadata": {
                "id": "f9032f75"
            },
            "source": [
                "## Evaluation Metrics\n",
                "\n",
                "Several metrics are used to evaluate the model’s performance. Accuracy measures the overall proportion of correct predictions, while precision, recall, and F1 score give insight into how well the model handles each class, especially when the data is imbalanced."
            ]
        },
        {
            "cell_type": "code",
            "execution_count": 28,
            "id": "a21ffb0e",
            "metadata": {
                "colab": {
                    "base_uri": "https://localhost:8080/",
                    "height": 145,
                    "referenced_widgets": [
                        "b109d7e341da407ca468c0acd6ac9ec9",
                        "e1077c72ee5e40abbde82ebded4df285",
                        "99b083f729c94bff8ff6b9645a1cd1de",
                        "79c539c35e5d4c499ec40422dc926a7d",
                        "fb6f7e67ab464095a4f8688aad525f43",
                        "cae8b87893e3425bac36dff8b5210b0a",
                        "4f06c7d3b13b4c16ad9993d5e391be60",
                        "d0673dd4488849169806e507a03fd649",
                        "e050afdcecbc42fba79abf0a731a64d8",
                        "0b3c9966a695404cb155c346f0749836",
                        "f8e011ddfc3b48f9a789e35d1227c6f9",
                        "faa0927ef01f45bda526b8029ab34a4e",
                        "18698dbb1795447f9dcd586365be9d64",
                        "b36c5712cc004a1a957abcad1f830bea",
                        "b521449779014b65a895dba5d8abc91d",
                        "92634ee643a74436bb38f0e61e30dfee",
                        "a5b7d2c1ef1a4e549303e333cedcfde7",
                        "def6154ea79443ec89fcc81d33b12961",
                        "08b3dc462a354d45b87d86bbb0660ca0",
                        "3585637ad39a421b802f170850930d81",
                        "a756275f38b740d3be68a67ec7cb89d8",
                        "e97cfe9cb9af455684700daefa2491a7",
                        "13875c694aff4ca39ec436503eb69053",
                        "ca882f69a0e74ec98eaad9b8288e9c58",
                        "5db2383edac24583a6eed77092fe79b3",
                        "72bdd04e28514b51ad0516a8449d83ca",
                        "326f991e64ce4491a3eec44a3277c793",
                        "e0a78af28d12489ca890de3eb97ff941",
                        "5cbcb16dc91c4bbe9e967817be20f60c",
                        "1776e126a3214b5b8e74b7b937007d90",
                        "d088dc61ebbb49daad3aeb6bd092314d",
                        "2a8a43c00e364c13a04ddf2b359e4cb9",
                        "012ffe69ae5543d1a71d74239537ff56",
                        "afbbec4619cb43a18968c9a3dfd2c23b",
                        "f0c16995afce4c288bc8beec45ae50d1",
                        "dffa760fe7444d8a94ef81a704533911",
                        "e266825b80634730b742107b27cf0cfd",
                        "3d393fbf1e7446afaeba35ddd5b5f1e1",
                        "5ee3a677aef04a29afaf1753db4e01ce",
                        "98917ec627e241528746d4f86a231bb1",
                        "0d0248bb2b154769a1cf323b70943f70",
                        "dd5f2cc6d3e74d9c94b6a9913e267d8c",
                        "29cbe5b0ecb6439698bfacc6a671e638",
                        "7104dd8dc5ce4030bb0fb4810a3a620c"
                    ]
                },
                "executionInfo": {
                    "elapsed": 2251,
                    "status": "ok",
                    "timestamp": 1755955911220,
                    "user": {
                        "displayName": "Virginia Herrero",
                        "userId": "16104809763584669928"
                    },
                    "user_tz": -120
                },
                "id": "a21ffb0e",
                "outputId": "5166ceae-86aa-43eb-fcb0-48cc39b50935"
            },
            "outputs": [
                {
                    "data": {
                        "application/vnd.jupyter.widget-view+json": {
                            "model_id": "b109d7e341da407ca468c0acd6ac9ec9",
                            "version_major": 2,
                            "version_minor": 0
                        },
                        "text/plain": [
                            "Downloading builder script: 0.00B [00:00, ?B/s]"
                        ]
                    },
                    "metadata": {},
                    "output_type": "display_data"
                },
                {
                    "data": {
                        "application/vnd.jupyter.widget-view+json": {
                            "model_id": "faa0927ef01f45bda526b8029ab34a4e",
                            "version_major": 2,
                            "version_minor": 0
                        },
                        "text/plain": [
                            "Downloading builder script: 0.00B [00:00, ?B/s]"
                        ]
                    },
                    "metadata": {},
                    "output_type": "display_data"
                },
                {
                    "data": {
                        "application/vnd.jupyter.widget-view+json": {
                            "model_id": "13875c694aff4ca39ec436503eb69053",
                            "version_major": 2,
                            "version_minor": 0
                        },
                        "text/plain": [
                            "Downloading builder script: 0.00B [00:00, ?B/s]"
                        ]
                    },
                    "metadata": {},
                    "output_type": "display_data"
                },
                {
                    "data": {
                        "application/vnd.jupyter.widget-view+json": {
                            "model_id": "afbbec4619cb43a18968c9a3dfd2c23b",
                            "version_major": 2,
                            "version_minor": 0
                        },
                        "text/plain": [
                            "Downloading builder script: 0.00B [00:00, ?B/s]"
                        ]
                    },
                    "metadata": {},
                    "output_type": "display_data"
                }
            ],
            "source": [
                "accuracy_metric = evaluate.load(\"accuracy\")\n",
                "precision_metric = evaluate.load(\"precision\")\n",
                "recall_metric = evaluate.load(\"recall\")\n",
                "f1_metric = evaluate.load(\"f1\")\n",
                "\n",
                "\n",
                "def compute_metrics(pred):\n",
                "    logits, labels = pred\n",
                "    predictions = np.argmax(logits, axis = 1)\n",
                "    acc = accuracy_metric.compute(predictions = predictions, references = labels)\n",
                "    prec = precision_metric.compute(predictions = predictions, references = labels, average = \"weighted\")\n",
                "    rec = recall_metric.compute(predictions = predictions, references = labels, average = \"weighted\")\n",
                "    f1 = f1_metric.compute(predictions = predictions, references = labels, average = \"weighted\")\n",
                "    return {\n",
                "        \"accuracy\": acc[\"accuracy\"],\n",
                "        \"precision\": prec[\"precision\"],\n",
                "        \"recall\": rec[\"recall\"],\n",
                "        \"f1\": f1[\"f1\"]\n",
                "    }"
            ]
        },
        {
            "cell_type": "markdown",
            "id": "237d451c",
            "metadata": {
                "id": "237d451c"
            },
            "source": [
                "## Label Mapping\n",
                "\n",
                "A reverse mapping from integer IDs back to text labels is created alongside the mapping from labels to IDs. This allows easy conversion between human-readable labels and model-friendly numbers during training and evaluation."
            ]
        },
        {
            "cell_type": "code",
            "execution_count": 29,
            "id": "795acd1f",
            "metadata": {
                "executionInfo": {
                    "elapsed": 38,
                    "status": "ok",
                    "timestamp": 1755955911266,
                    "user": {
                        "displayName": "Virginia Herrero",
                        "userId": "16104809763584669928"
                    },
                    "user_tz": -120
                },
                "id": "795acd1f"
            },
            "outputs": [],
            "source": [
                "id2label = {v: k for k, v in label_mapping.items()}\n",
                "label2id = label_mapping"
            ]
        },
        {
            "cell_type": "markdown",
            "id": "5c4d1f13",
            "metadata": {
                "id": "5c4d1f13"
            },
            "source": [
                "## Load DistilBERT Model\n",
                "\n",
                "A pretrained DistilBERT model is loaded and adapted for sequence classification tasks. This provides a strong starting point for fine-tuning on the specific dataset."
            ]
        },
        {
            "cell_type": "code",
            "execution_count": 30,
            "id": "5c988bd8",
            "metadata": {
                "colab": {
                    "base_uri": "https://localhost:8080/",
                    "height": 104,
                    "referenced_widgets": [
                        "b12f062891014a42a8c118b4181ebe73",
                        "41a37fc51f504a8fbc6a4e5e14e0fa39",
                        "40d6688ec0504bbbbc0c917057d5f784",
                        "8c1333f54d6f46668ee0ea9e52e37491",
                        "f6320ee580f14a0fa00758cae9983863",
                        "a252d474e03b41cea87d2316767e15a0",
                        "b529ce7e516141ee822d9292f83bab78",
                        "a151c60cff554b9dba930e2174071c50",
                        "47cbce07c25a48b188f7854b16e5b166",
                        "5a8ba13a749e42f09500c055fb1c9c1d",
                        "ab5955a41dc84121adaa8801c95e2c0a"
                    ]
                },
                "executionInfo": {
                    "elapsed": 6631,
                    "status": "ok",
                    "timestamp": 1755955917909,
                    "user": {
                        "displayName": "Virginia Herrero",
                        "userId": "16104809763584669928"
                    },
                    "user_tz": -120
                },
                "id": "5c988bd8",
                "outputId": "7f9780c6-e07e-44ce-a62c-bd4d583e74f9"
            },
            "outputs": [
                {
                    "data": {
                        "application/vnd.jupyter.widget-view+json": {
                            "model_id": "b12f062891014a42a8c118b4181ebe73",
                            "version_major": 2,
                            "version_minor": 0
                        },
                        "text/plain": [
                            "model.safetensors:   0%|          | 0.00/268M [00:00<?, ?B/s]"
                        ]
                    },
                    "metadata": {},
                    "output_type": "display_data"
                },
                {
                    "name": "stderr",
                    "output_type": "stream",
                    "text": [
                        "Some weights of DistilBertForSequenceClassification were not initialized from the model checkpoint at distilbert-base-uncased and are newly initialized: ['classifier.bias', 'classifier.weight', 'pre_classifier.bias', 'pre_classifier.weight']\n",
                        "You should probably TRAIN this model on a down-stream task to be able to use it for predictions and inference.\n"
                    ]
                }
            ],
            "source": [
                "# Load pretrained model\n",
                "model = AutoModelForSequenceClassification.from_pretrained(\n",
                "    \"distilbert-base-uncased\",\n",
                "    num_labels = len(label2id),\n",
                "    id2label = id2label,\n",
                "    label2id = label2id\n",
                ")"
            ]
        },
        {
            "cell_type": "markdown",
            "id": "aa67a010",
            "metadata": {
                "id": "aa67a010"
            },
            "source": [
                "## Model Training\n",
                "\n",
                "The model is fine-tuned on the training data to learn how to classify the product descriptions accurately."
            ]
        },
        {
            "cell_type": "code",
            "execution_count": 31,
            "id": "a4eef3da",
            "metadata": {
                "colab": {
                    "base_uri": "https://localhost:8080/"
                },
                "executionInfo": {
                    "elapsed": 563,
                    "status": "ok",
                    "timestamp": 1755955918517,
                    "user": {
                        "displayName": "Virginia Herrero",
                        "userId": "16104809763584669928"
                    },
                    "user_tz": -120
                },
                "id": "a4eef3da",
                "outputId": "dca0464e-1077-4374-a167-9d28330305af"
            },
            "outputs": [
                {
                    "name": "stdout",
                    "output_type": "stream",
                    "text": [
                        "Training on device: cuda\n"
                    ]
                }
            ],
            "source": [
                "# Enable info-level logging\n",
                "transformers.logging.set_verbosity_info()\n",
                "\n",
                "# Check for GPU availability and set device accordingly\n",
                "device = torch.device(\"cuda\" if torch.cuda.is_available() else \"cpu\")\n",
                "model.to(device)\n",
                "print(f\"Training on device: {device}\")"
            ]
        },
        {
            "cell_type": "code",
            "execution_count": 32,
            "id": "u8HoaDlt0w9g",
            "metadata": {
                "executionInfo": {
                    "elapsed": 18,
                    "status": "ok",
                    "timestamp": 1755955918529,
                    "user": {
                        "displayName": "Virginia Herrero",
                        "userId": "16104809763584669928"
                    },
                    "user_tz": -120
                },
                "id": "u8HoaDlt0w9g"
            },
            "outputs": [],
            "source": [
                "output_dir = (MODELS_DIR / \"distilBERT\")"
            ]
        },
        {
            "cell_type": "code",
            "execution_count": 33,
            "id": "8eb9a702",
            "metadata": {
                "colab": {
                    "base_uri": "https://localhost:8080/"
                },
                "executionInfo": {
                    "elapsed": 40,
                    "status": "ok",
                    "timestamp": 1755955918579,
                    "user": {
                        "displayName": "Virginia Herrero",
                        "userId": "16104809763584669928"
                    },
                    "user_tz": -120
                },
                "id": "8eb9a702",
                "outputId": "9b0d1484-6619-49ce-9742-c4295c137203"
            },
            "outputs": [
                {
                    "name": "stderr",
                    "output_type": "stream",
                    "text": [
                        "PyTorch: setting up devices\n",
                        "average_tokens_across_devices is True but world size is 1. Setting it to False automatically.\n"
                    ]
                }
            ],
            "source": [
                "training_args = TrainingArguments(\n",
                "    output_dir = output_dir,\n",
                "    eval_strategy = \"epoch\",\n",
                "    save_strategy = \"epoch\",\n",
                "    logging_strategy = \"steps\",\n",
                "    logging_steps = 20,\n",
                "    per_device_train_batch_size = 16,\n",
                "    per_device_eval_batch_size = 16,\n",
                "    num_train_epochs = 5,            # Reduced epochs for faster training\n",
                "    weight_decay = 0.01,\n",
                "    save_total_limit = 2,            # Keep only last 2 checkpoints to save disk space\n",
                "    load_best_model_at_end = True,   # Load best model according to eval loss\n",
                "    metric_for_best_model = \"f1\",    # Use F1 score to pick best model\n",
                "    seed = 42,\n",
                "    report_to = []\n",
                ")"
            ]
        },
        {
            "cell_type": "code",
            "execution_count": 34,
            "id": "d61f1986",
            "metadata": {
                "colab": {
                    "base_uri": "https://localhost:8080/",
                    "height": 1000
                },
                "executionInfo": {
                    "elapsed": 1454394,
                    "status": "ok",
                    "timestamp": 1755957372979,
                    "user": {
                        "displayName": "Virginia Herrero",
                        "userId": "16104809763584669928"
                    },
                    "user_tz": -120
                },
                "id": "d61f1986",
                "outputId": "c01002ec-d208-49b8-9308-6bbecf0f9764"
            },
            "outputs": [
                {
                    "name": "stderr",
                    "output_type": "stream",
                    "text": [
                        "/tmp/ipython-input-3492715168.py:1: FutureWarning: `tokenizer` is deprecated and will be removed in version 5.0.0 for `Trainer.__init__`. Use `processing_class` instead.\n",
                        "  trainer = Trainer(\n",
                        "The following columns in the Training set don't have a corresponding argument in `DistilBertForSequenceClassification.forward` and have been ignored: product_description. If product_description are not expected by `DistilBertForSequenceClassification.forward`,  you can safely ignore this message.\n",
                        "***** Running training *****\n",
                        "  Num examples = 25,020\n",
                        "  Num Epochs = 5\n",
                        "  Instantaneous batch size per device = 16\n",
                        "  Total train batch size (w. parallel, distributed & accumulation) = 16\n",
                        "  Gradient Accumulation steps = 1\n",
                        "  Total optimization steps = 7,820\n",
                        "  Number of trainable parameters = 66,956,548\n"
                    ]
                },
                {
                    "data": {
                        "text/html": [
                            "\n",
                            "    <div>\n",
                            "      \n",
                            "      <progress value='7820' max='7820' style='width:300px; height:20px; vertical-align: middle;'></progress>\n",
                            "      [7820/7820 24:12, Epoch 5/5]\n",
                            "    </div>\n",
                            "    <table border=\"1\" class=\"dataframe\">\n",
                            "  <thead>\n",
                            " <tr style=\"text-align: left;\">\n",
                            "      <th>Epoch</th>\n",
                            "      <th>Training Loss</th>\n",
                            "      <th>Validation Loss</th>\n",
                            "      <th>Accuracy</th>\n",
                            "      <th>Precision</th>\n",
                            "      <th>Recall</th>\n",
                            "      <th>F1</th>\n",
                            "    </tr>\n",
                            "  </thead>\n",
                            "  <tbody>\n",
                            "    <tr>\n",
                            "      <td>1</td>\n",
                            "      <td>0.182900</td>\n",
                            "      <td>0.175690</td>\n",
                            "      <td>0.957210</td>\n",
                            "      <td>0.957280</td>\n",
                            "      <td>0.957210</td>\n",
                            "      <td>0.957220</td>\n",
                            "    </tr>\n",
                            "    <tr>\n",
                            "      <td>2</td>\n",
                            "      <td>0.058500</td>\n",
                            "      <td>0.176099</td>\n",
                            "      <td>0.962603</td>\n",
                            "      <td>0.962789</td>\n",
                            "      <td>0.962603</td>\n",
                            "      <td>0.962637</td>\n",
                            "    </tr>\n",
                            "    <tr>\n",
                            "      <td>3</td>\n",
                            "      <td>0.110400</td>\n",
                            "      <td>0.176126</td>\n",
                            "      <td>0.963682</td>\n",
                            "      <td>0.963634</td>\n",
                            "      <td>0.963682</td>\n",
                            "      <td>0.963647</td>\n",
                            "    </tr>\n",
                            "    <tr>\n",
                            "      <td>4</td>\n",
                            "      <td>0.111900</td>\n",
                            "      <td>0.183651</td>\n",
                            "      <td>0.965120</td>\n",
                            "      <td>0.965225</td>\n",
                            "      <td>0.965120</td>\n",
                            "      <td>0.965156</td>\n",
                            "    </tr>\n",
                            "    <tr>\n",
                            "      <td>5</td>\n",
                            "      <td>0.039000</td>\n",
                            "      <td>0.206606</td>\n",
                            "      <td>0.964042</td>\n",
                            "      <td>0.964185</td>\n",
                            "      <td>0.964042</td>\n",
                            "      <td>0.964060</td>\n",
                            "    </tr>\n",
                            "  </tbody>\n",
                            "</table><p>"
                        ],
                        "text/plain": [
                            "<IPython.core.display.HTML object>"
                        ]
                    },
                    "metadata": {},
                    "output_type": "display_data"
                },
                {
                    "name": "stderr",
                    "output_type": "stream",
                    "text": [
                        "The following columns in the Evaluation set don't have a corresponding argument in `DistilBertForSequenceClassification.forward` and have been ignored: product_description. If product_description are not expected by `DistilBertForSequenceClassification.forward`,  you can safely ignore this message.\n",
                        "\n",
                        "***** Running Evaluation *****\n",
                        "  Num examples = 2781\n",
                        "  Batch size = 16\n",
                        "Saving model checkpoint to /content/drive/MyDrive/Colab_Projects/Product-category-classifier/models/distilBERT/checkpoint-1564\n",
                        "Configuration saved in /content/drive/MyDrive/Colab_Projects/Product-category-classifier/models/distilBERT/checkpoint-1564/config.json\n",
                        "Model weights saved in /content/drive/MyDrive/Colab_Projects/Product-category-classifier/models/distilBERT/checkpoint-1564/model.safetensors\n",
                        "tokenizer config file saved in /content/drive/MyDrive/Colab_Projects/Product-category-classifier/models/distilBERT/checkpoint-1564/tokenizer_config.json\n",
                        "Special tokens file saved in /content/drive/MyDrive/Colab_Projects/Product-category-classifier/models/distilBERT/checkpoint-1564/special_tokens_map.json\n",
                        "The following columns in the Evaluation set don't have a corresponding argument in `DistilBertForSequenceClassification.forward` and have been ignored: product_description. If product_description are not expected by `DistilBertForSequenceClassification.forward`,  you can safely ignore this message.\n",
                        "\n",
                        "***** Running Evaluation *****\n",
                        "  Num examples = 2781\n",
                        "  Batch size = 16\n",
                        "Saving model checkpoint to /content/drive/MyDrive/Colab_Projects/Product-category-classifier/models/distilBERT/checkpoint-3128\n",
                        "Configuration saved in /content/drive/MyDrive/Colab_Projects/Product-category-classifier/models/distilBERT/checkpoint-3128/config.json\n",
                        "Model weights saved in /content/drive/MyDrive/Colab_Projects/Product-category-classifier/models/distilBERT/checkpoint-3128/model.safetensors\n",
                        "tokenizer config file saved in /content/drive/MyDrive/Colab_Projects/Product-category-classifier/models/distilBERT/checkpoint-3128/tokenizer_config.json\n",
                        "Special tokens file saved in /content/drive/MyDrive/Colab_Projects/Product-category-classifier/models/distilBERT/checkpoint-3128/special_tokens_map.json\n",
                        "The following columns in the Evaluation set don't have a corresponding argument in `DistilBertForSequenceClassification.forward` and have been ignored: product_description. If product_description are not expected by `DistilBertForSequenceClassification.forward`,  you can safely ignore this message.\n",
                        "\n",
                        "***** Running Evaluation *****\n",
                        "  Num examples = 2781\n",
                        "  Batch size = 16\n",
                        "Saving model checkpoint to /content/drive/MyDrive/Colab_Projects/Product-category-classifier/models/distilBERT/checkpoint-4692\n",
                        "Configuration saved in /content/drive/MyDrive/Colab_Projects/Product-category-classifier/models/distilBERT/checkpoint-4692/config.json\n",
                        "Model weights saved in /content/drive/MyDrive/Colab_Projects/Product-category-classifier/models/distilBERT/checkpoint-4692/model.safetensors\n",
                        "tokenizer config file saved in /content/drive/MyDrive/Colab_Projects/Product-category-classifier/models/distilBERT/checkpoint-4692/tokenizer_config.json\n",
                        "Special tokens file saved in /content/drive/MyDrive/Colab_Projects/Product-category-classifier/models/distilBERT/checkpoint-4692/special_tokens_map.json\n",
                        "Deleting older checkpoint [/content/drive/MyDrive/Colab_Projects/Product-category-classifier/models/distilBERT/checkpoint-1564] due to args.save_total_limit\n",
                        "The following columns in the Evaluation set don't have a corresponding argument in `DistilBertForSequenceClassification.forward` and have been ignored: product_description. If product_description are not expected by `DistilBertForSequenceClassification.forward`,  you can safely ignore this message.\n",
                        "\n",
                        "***** Running Evaluation *****\n",
                        "  Num examples = 2781\n",
                        "  Batch size = 16\n",
                        "Saving model checkpoint to /content/drive/MyDrive/Colab_Projects/Product-category-classifier/models/distilBERT/checkpoint-6256\n",
                        "Configuration saved in /content/drive/MyDrive/Colab_Projects/Product-category-classifier/models/distilBERT/checkpoint-6256/config.json\n",
                        "Model weights saved in /content/drive/MyDrive/Colab_Projects/Product-category-classifier/models/distilBERT/checkpoint-6256/model.safetensors\n",
                        "tokenizer config file saved in /content/drive/MyDrive/Colab_Projects/Product-category-classifier/models/distilBERT/checkpoint-6256/tokenizer_config.json\n",
                        "Special tokens file saved in /content/drive/MyDrive/Colab_Projects/Product-category-classifier/models/distilBERT/checkpoint-6256/special_tokens_map.json\n",
                        "Deleting older checkpoint [/content/drive/MyDrive/Colab_Projects/Product-category-classifier/models/distilBERT/checkpoint-3128] due to args.save_total_limit\n",
                        "The following columns in the Evaluation set don't have a corresponding argument in `DistilBertForSequenceClassification.forward` and have been ignored: product_description. If product_description are not expected by `DistilBertForSequenceClassification.forward`,  you can safely ignore this message.\n",
                        "\n",
                        "***** Running Evaluation *****\n",
                        "  Num examples = 2781\n",
                        "  Batch size = 16\n",
                        "Saving model checkpoint to /content/drive/MyDrive/Colab_Projects/Product-category-classifier/models/distilBERT/checkpoint-7820\n",
                        "Configuration saved in /content/drive/MyDrive/Colab_Projects/Product-category-classifier/models/distilBERT/checkpoint-7820/config.json\n",
                        "Model weights saved in /content/drive/MyDrive/Colab_Projects/Product-category-classifier/models/distilBERT/checkpoint-7820/model.safetensors\n",
                        "tokenizer config file saved in /content/drive/MyDrive/Colab_Projects/Product-category-classifier/models/distilBERT/checkpoint-7820/tokenizer_config.json\n",
                        "Special tokens file saved in /content/drive/MyDrive/Colab_Projects/Product-category-classifier/models/distilBERT/checkpoint-7820/special_tokens_map.json\n",
                        "Deleting older checkpoint [/content/drive/MyDrive/Colab_Projects/Product-category-classifier/models/distilBERT/checkpoint-4692] due to args.save_total_limit\n",
                        "\n",
                        "\n",
                        "Training completed. Do not forget to share your model on huggingface.co/models =)\n",
                        "\n",
                        "\n",
                        "Loading best model from /content/drive/MyDrive/Colab_Projects/Product-category-classifier/models/distilBERT/checkpoint-6256 (score: 0.9651564279100568).\n"
                    ]
                },
                {
                    "data": {
                        "text/plain": [
                            "TrainOutput(global_step=7820, training_loss=0.09761834100586698, metrics={'train_runtime': 1454.1142, 'train_samples_per_second': 86.032, 'train_steps_per_second': 5.378, 'total_flos': 4143065659084800.0, 'train_loss': 0.09761834100586698, 'epoch': 5.0})"
                        ]
                    },
                    "execution_count": 34,
                    "metadata": {},
                    "output_type": "execute_result"
                }
            ],
            "source": [
                "trainer = Trainer(\n",
                "    model = model,\n",
                "    args = training_args,\n",
                "    train_dataset = train_tokens,\n",
                "    eval_dataset = test_tokens,\n",
                "    tokenizer = tokenizer,\n",
                "    data_collator = data_collator,\n",
                "    compute_metrics = compute_metrics,\n",
                ")\n",
                "\n",
                "# Train the model\n",
                "trainer.train()"
            ]
        },
        {
            "cell_type": "markdown",
            "id": "c1c6d8f0",
            "metadata": {
                "id": "c1c6d8f0"
            },
            "source": [
                "## Model Evaluation\n",
                "\n",
                "The trained model is evaluated on the test set using the metrics set before to measure its performance and ensure it generalizes well."
            ]
        },
        {
            "cell_type": "code",
            "execution_count": 35,
            "id": "Yitk1nwcWpxL",
            "metadata": {
                "colab": {
                    "base_uri": "https://localhost:8080/",
                    "height": 336
                },
                "executionInfo": {
                    "elapsed": 10677,
                    "status": "ok",
                    "timestamp": 1755957383695,
                    "user": {
                        "displayName": "Virginia Herrero",
                        "userId": "16104809763584669928"
                    },
                    "user_tz": -120
                },
                "id": "Yitk1nwcWpxL",
                "outputId": "2e569d36-9200-40f2-8bc8-85f1e7063975"
            },
            "outputs": [
                {
                    "name": "stderr",
                    "output_type": "stream",
                    "text": [
                        "The following columns in the Evaluation set don't have a corresponding argument in `DistilBertForSequenceClassification.forward` and have been ignored: product_description. If product_description are not expected by `DistilBertForSequenceClassification.forward`,  you can safely ignore this message.\n",
                        "\n",
                        "***** Running Evaluation *****\n",
                        "  Num examples = 2781\n",
                        "  Batch size = 16\n"
                    ]
                },
                {
                    "data": {
                        "text/html": [
                            "\n",
                            "    <div>\n",
                            "      \n",
                            "      <progress value='174' max='174' style='width:300px; height:20px; vertical-align: middle;'></progress>\n",
                            "      [174/174 00:10]\n",
                            "    </div>\n",
                            "    "
                        ],
                        "text/plain": [
                            "<IPython.core.display.HTML object>"
                        ]
                    },
                    "metadata": {},
                    "output_type": "display_data"
                },
                {
                    "name": "stdout",
                    "output_type": "stream",
                    "text": [
                        "DistilBERT Model Evaluation Metrics on Test Set:\n",
                        "\n",
                        "Eval_loss: 0.1837\n",
                        "Eval_accuracy: 0.9651\n",
                        "Eval_precision: 0.9652\n",
                        "Eval_recall: 0.9651\n",
                        "Eval_f1: 0.9652\n",
                        "Eval_runtime: 10.3872\n",
                        "Eval_samples_per_second: 267.7350\n",
                        "Eval_steps_per_second: 16.7510\n",
                        "Epoch: 5.0000\n"
                    ]
                }
            ],
            "source": [
                "evaluation_path = (METRICS_RESULTS_DIR / \"distilBERT-model-evaluation-metrics.txt\")\n",
                "\n",
                "with open(evaluation_path, \"w\", encoding = \"utf-8\") as f:\n",
                "\n",
                "    def save_metrics(text = \"\"):\n",
                "        print(text)\n",
                "        f.write(text + \"\n",
                "\")\n",
                "\n",
                "    # Evaluate model\n",
                "    eval_results = trainer.evaluate()\n",
                "\n",
                "    # Print and save results\n",
                "    save_metrics(\"DistilBERT Model Evaluation Metrics on Test Set:\n",
                "\")\n",
                "    for metric, value in eval_results.items():\n",
                "        try:\n",
                "            save_metrics(f\"{metric.capitalize()}: {value:.4f}\")\n",
                "        except TypeError:\n",
                "            save_metrics(f\"{metric.capitalize()}: {value}\")\n"
            ]
        },
        {
            "cell_type": "code",
            "execution_count": 36,
            "id": "2f83544d",
            "metadata": {
                "colab": {
                    "base_uri": "https://localhost:8080/",
                    "height": 124
                },
                "executionInfo": {
                    "elapsed": 10436,
                    "status": "ok",
                    "timestamp": 1755957394167,
                    "user": {
                        "displayName": "Virginia Herrero",
                        "userId": "16104809763584669928"
                    },
                    "user_tz": -120
                },
                "id": "2f83544d",
                "outputId": "f375e5a0-ded0-4dbd-c320-b9402beb932d"
            },
            "outputs": [
                {
                    "name": "stderr",
                    "output_type": "stream",
                    "text": [
                        "The following columns in the test set don't have a corresponding argument in `DistilBertForSequenceClassification.forward` and have been ignored: product_description. If product_description are not expected by `DistilBertForSequenceClassification.forward`,  you can safely ignore this message.\n",
                        "\n",
                        "***** Running Prediction *****\n",
                        "  Num examples = 2781\n",
                        "  Batch size = 16\n"
                    ]
                },
                {
                    "data": {
                        "text/html": [],
                        "text/plain": [
                            "<IPython.core.display.HTML object>"
                        ]
                    },
                    "metadata": {},
                    "output_type": "display_data"
                }
            ],
            "source": [
                "# Predict on test set\n",
                "preds_output = trainer.predict(test_tokens)\n",
                "\n",
                "# Extract predictions and labels\n",
                "y_pred = np.argmax(preds_output.predictions, axis=1)\n",
                "y_true = preds_output.label_ids"
            ]
        },
        {
            "cell_type": "code",
            "execution_count": 37,
            "id": "9CX3GjNv13MZ",
            "metadata": {
                "colab": {
                    "base_uri": "https://localhost:8080/",
                    "height": 564
                },
                "executionInfo": {
                    "elapsed": 674,
                    "status": "ok",
                    "timestamp": 1755957394884,
                    "user": {
                        "displayName": "Virginia Herrero",
                        "userId": "16104809763584669928"
                    },
                    "user_tz": -120
                },
                "id": "9CX3GjNv13MZ",
                "outputId": "cb1111bb-a596-45ac-d500-5b0e87331d09"
            },
            "outputs": [
                {
                    "data": {
                        "image/png": "[encoded data removed]",
                        "text/plain": [
                            "<Figure size 800x600 with 2 Axes>"
                        ]
                    },
                    "metadata": {},
                    "output_type": "display_data"
                }
            ],
            "source": [
                "# Plot confusion matrix\n",
                "cm = confusion_matrix(y_true, y_pred)\n",
                "fig, ax = plt.subplots(figsize = (8, 6))\n",
                "disp = ConfusionMatrixDisplay(confusion_matrix = cm, display_labels = id2label.values())\n",
                "disp.plot(cmap = \"hot_r\", ax = ax)\n",
                "plt.title(\"DistilBERT Model Confusion Matrix\")\n",
                "plt.savefig(FIGURES_DIR / \"distilBERT-model-confusion-matrix.png\", bbox_inches = \"tight\")"
            ]
        },
        {
            "cell_type": "code",
            "execution_count": 38,
            "id": "da5d648b",
            "metadata": {
                "colab": {
                    "base_uri": "https://localhost:8080/"
                },
                "executionInfo": {
                    "elapsed": 215,
                    "status": "ok",
                    "timestamp": 1755957395110,
                    "user": {
                        "displayName": "Virginia Herrero",
                        "userId": "16104809763584669928"
                    },
                    "user_tz": -120
                },
                "id": "da5d648b",
                "outputId": "641f87f6-42d6-4f8d-d8b2-8d080075fdf5"
            },
            "outputs": [
                {
                    "name": "stdout",
                    "output_type": "stream",
                    "text": [
                        "DistilBERT Model Classification Report:\n",
                        "\n",
                        "                        precision    recall  f1-score   support\n",
                        "\n",
                        "           Electronics       0.94      0.95      0.95       531\n",
                        "             Household       0.97      0.96      0.97      1057\n",
                        "                 Books       0.96      0.97      0.96       626\n",
                        "Clothing & Accessories       0.99      0.98      0.98       567\n",
                        "\n",
                        "              accuracy                           0.97      2781\n",
                        "             macro avg       0.96      0.97      0.96      2781\n",
                        "          weighted avg       0.97      0.97      0.97      2781\n",
                        "\n"
                    ]
                }
            ],
            "source": [
                "# Show precision, recall, f1-score per class\n",
                "class_path = (METRICS_RESULTS_DIR/ \"distilBERT-classification-report.txt\")\n",
                "\n",
                "report = classification_report(y_true, y_pred, target_names = id2label.values())\n",
                "\n",
                "# Print and save\n",
                "with open(class_path, \"w\", encoding = \"utf-8\") as f:\n",
                "    print(\"DistilBERT Model Classification Report:\n",
                "\")\n",
                "    print(report)\n",
                "\n",
                "    f.write(\"DistilBERT Model Classification Report:\n",
                "\n",
                "\")\n",
                "    f.write(report)"
            ]
        },
        {
            "cell_type": "code",
            "execution_count": 39,
            "id": "07b91cbc",
            "metadata": {
                "colab": {
                    "base_uri": "https://localhost:8080/"
                },
                "executionInfo": {
                    "elapsed": 847,
                    "status": "ok",
                    "timestamp": 1755957395965,
                    "user": {
                        "displayName": "Virginia Herrero",
                        "userId": "16104809763584669928"
                    },
                    "user_tz": -120
                },
                "id": "07b91cbc",
                "outputId": "38f570a0-ab2a-4683-d414-db11b2946ef8"
            },
            "outputs": [
                {
                    "name": "stderr",
                    "output_type": "stream",
                    "text": [
                        "Configuration saved in /content/drive/MyDrive/Colab_Projects/Product-category-classifier/models/distilBERT/distilBERT-final-model/config.json\n",
                        "Model weights saved in /content/drive/MyDrive/Colab_Projects/Product-category-classifier/models/distilBERT/distilBERT-final-model/pytorch_model.bin\n",
                        "tokenizer config file saved in /content/drive/MyDrive/Colab_Projects/Product-category-classifier/models/distilBERT/distilBERT-final-model/tokenizer_config.json\n",
                        "Special tokens file saved in /content/drive/MyDrive/Colab_Projects/Product-category-classifier/models/distilBERT/distilBERT-final-model/special_tokens_map.json\n"
                    ]
                },
                {
                    "data": {
                        "text/plain": [
                            "('/content/drive/MyDrive/Colab_Projects/Product-category-classifier/models/distilBERT/distilBERT-final-model/tokenizer_config.json',\n",
                            " '/content/drive/MyDrive/Colab_Projects/Product-category-classifier/models/distilBERT/distilBERT-final-model/special_tokens_map.json',\n",
                            " '/content/drive/MyDrive/Colab_Projects/Product-category-classifier/models/distilBERT/distilBERT-final-model/vocab.txt',\n",
                            " '/content/drive/MyDrive/Colab_Projects/Product-category-classifier/models/distilBERT/distilBERT-final-model/added_tokens.json')"
                        ]
                    },
                    "execution_count": 39,
                    "metadata": {},
                    "output_type": "execute_result"
                }
            ],
            "source": [
                "model.save_pretrained(MODELS_DIR / \"distilBERT\" /\"distilBERT-final-model\", safe_serialization = False)\n",
                "tokenizer.save_pretrained(MODELS_DIR / \"distilBERT\" / \"distilBERT-final-model\")"
            ]
        },
        {
            "cell_type": "markdown",
            "id": "619f1a5c",
            "metadata": {
                "id": "619f1a5c"
            },
            "source": [
                "## Model Inference\n",
                "\n",
                "The trained model is used to make predictions on new product descriptions. This step applies the model to real data to get classification results."
            ]
        },
        {
            "cell_type": "code",
            "execution_count": 40,
            "id": "hEd_9p_o2WLg",
            "metadata": {
                "colab": {
                    "base_uri": "https://localhost:8080/"
                },
                "executionInfo": {
                    "elapsed": 598,
                    "status": "ok",
                    "timestamp": 1755957396589,
                    "user": {
                        "displayName": "Virginia Herrero",
                        "userId": "16104809763584669928"
                    },
                    "user_tz": -120
                },
                "id": "hEd_9p_o2WLg",
                "outputId": "1288c865-ef1a-4126-b7c7-e94f518da3c9"
            },
            "outputs": [
                {
                    "name": "stderr",
                    "output_type": "stream",
                    "text": [
                        "loading configuration file /content/drive/MyDrive/Colab_Projects/Product-category-classifier/models/distilBERT/distilBERT-final-model/config.json\n",
                        "Model config DistilBertConfig {\n",
                        "  \"activation\": \"gelu\",\n",
                        "  \"architectures\": [\n",
                        "    \"DistilBertForSequenceClassification\"\n",
                        "  ],\n",
                        "  \"attention_dropout\": 0.1,\n",
                        "  \"dim\": 768,\n",
                        "  \"dropout\": 0.1,\n",
                        "  \"hidden_dim\": 3072,\n",
                        "  \"id2label\": {\n",
                        "    \"0\": \"Electronics\",\n",
                        "    \"1\": \"Household\",\n",
                        "    \"2\": \"Books\",\n",
                        "    \"3\": \"Clothing & Accessories\"\n",
                        "  },\n",
                        "  \"initializer_range\": 0.02,\n",
                        "  \"label2id\": {\n",
                        "    \"Books\": 2,\n",
                        "    \"Clothing & Accessories\": 3,\n",
                        "    \"Electronics\": 0,\n",
                        "    \"Household\": 1\n",
                        "  },\n",
                        "  \"max_position_embeddings\": 512,\n",
                        "  \"model_type\": \"distilbert\",\n",
                        "  \"n_heads\": 12,\n",
                        "  \"n_layers\": 6,\n",
                        "  \"pad_token_id\": 0,\n",
                        "  \"problem_type\": \"single_label_classification\",\n",
                        "  \"qa_dropout\": 0.1,\n",
                        "  \"seq_classif_dropout\": 0.2,\n",
                        "  \"sinusoidal_pos_embds\": false,\n",
                        "  \"tie_weights_\": true,\n",
                        "  \"torch_dtype\": \"float32\",\n",
                        "  \"transformers_version\": \"4.55.2\",\n",
                        "  \"vocab_size\": 30522\n",
                        "}\n",
                        "\n",
                        "loading weights file /content/drive/MyDrive/Colab_Projects/Product-category-classifier/models/distilBERT/distilBERT-final-model/pytorch_model.bin\n",
                        "All model checkpoint weights were used when initializing DistilBertForSequenceClassification.\n",
                        "\n",
                        "All the weights of DistilBertForSequenceClassification were initialized from the model checkpoint at /content/drive/MyDrive/Colab_Projects/Product-category-classifier/models/distilBERT/distilBERT-final-model.\n",
                        "If your task is similar to the task the model of the checkpoint was trained on, you can already use DistilBertForSequenceClassification for predictions without further training.\n",
                        "loading file vocab.txt\n",
                        "loading file added_tokens.json\n",
                        "loading file special_tokens_map.json\n",
                        "loading file tokenizer_config.json\n",
                        "loading file tokenizer.json\n",
                        "loading file chat_template.jinja\n"
                    ]
                }
            ],
            "source": [
                "# Load the trained model and the tokenizer\n",
                "model = AutoModelForSequenceClassification.from_pretrained(MODELS_DIR / \"distilBERT\" / \"distilBERT-final-model\")\n",
                "tokenizer = DistilBertTokenizer.from_pretrained(MODELS_DIR / \"distilBERT\" / \"distilBERT-final-model\")"
            ]
        },
        {
            "cell_type": "code",
            "execution_count": 41,
            "id": "jzML3ZyC2WtH",
            "metadata": {
                "colab": {
                    "base_uri": "https://localhost:8080/"
                },
                "executionInfo": {
                    "elapsed": 213,
                    "status": "ok",
                    "timestamp": 1755957396828,
                    "user": {
                        "displayName": "Virginia Herrero",
                        "userId": "16104809763584669928"
                    },
                    "user_tz": -120
                },
                "id": "jzML3ZyC2WtH",
                "outputId": "d6b7d96e-927c-4f4e-d10b-50bc72c12c13"
            },
            "outputs": [
                {
                    "name": "stderr",
                    "output_type": "stream",
                    "text": [
                        "Device set to use cuda:0\n"
                    ]
                }
            ],
            "source": [
                "# Create a classification pipeline\n",
                "device_num = 0 if torch.cuda.is_available() else -1\n",
                "pipeline = TextClassificationPipeline(model = model, tokenizer = tokenizer, device = device_num)"
            ]
        },
        {
            "cell_type": "code",
            "execution_count": 42,
            "id": "ZzLs0m8q2cW6",
            "metadata": {
                "executionInfo": {
                    "elapsed": 33,
                    "status": "ok",
                    "timestamp": 1755957396869,
                    "user": {
                        "displayName": "Virginia Herrero",
                        "userId": "16104809763584669928"
                    },
                    "user_tz": -120
                },
                "id": "ZzLs0m8q2cW6"
            },
            "outputs": [],
            "source": [
                "# Example input for inference\n",
                "input_texts = [\n",
                "    # Electronics\n",
                "    \"Samsung Galaxy Tab S9 Ultra with 14.6'' AMOLED Display and S Pen\",\n",
                "    \"Bose QuietComfort Ultra Earbuds – Noise Cancelling, Bluetooth\",\n",
                "    \"ASUS ROG Zephyrus Gaming Laptop – Ryzen 9, RTX 4070, 1TB SSD\",\n",
                "\n",
                "    # Household\n",
                "    \"iRobot Roomba i7+ Robot Vacuum with Automatic Dirt Disposal\",\n",
                "    \"Keurig K-Elite Single Serve Coffee Maker – Iced Coffee Option\",\n",
                "    \"Dyson Pure Cool Link Air Purifier and Fan – WiFi Enabled, HEPA Filter\",\n",
                "\n",
                "    # Books\n",
                "    \"Atomic Habits by James Clear – Build Good Habits & Break Bad Ones\",\n",
                "    \"The Hobbit by J.R.R. Tolkien – Illustrated Collector’s Edition\",\n",
                "    \"Introduction to Machine Learning with Python by Andreas C. Müller\",\n",
                "\n",
                "    # Clothing\n",
                "    \"Levi’s Men's 511 Slim Fit Jeans – Stretch Denim, Dark Indigo\",\n",
                "    \"Nike Women's Dri-FIT Training T-Shirt – Lightweight & Breathable\",\n",
                "    \"The North Face Men's Thermoball Eco Jacket – Insulated, Packable\",\n",
                "\n",
                "    # Accessories\n",
                "    \"Ray-Ban RB2132 New Wayfarer Sunglasses – Polarized, Classic Black\",\n",
                "    \"Fossil Women's Leather Wallet with RFID Blocking – Zipper Closure\",\n",
                "    \"Casio G-Shock Men's Sport Watch – Shock Resistant, Waterproof\"\n",
                "]"
            ]
        },
        {
            "cell_type": "code",
            "execution_count": 43,
            "id": "aG9FgBsUV1zG",
            "metadata": {
                "colab": {
                    "base_uri": "https://localhost:8080/"
                },
                "executionInfo": {
                    "elapsed": 434,
                    "status": "ok",
                    "timestamp": 1755957397312,
                    "user": {
                        "displayName": "Virginia Herrero",
                        "userId": "16104809763584669928"
                    },
                    "user_tz": -120
                },
                "id": "aG9FgBsUV1zG",
                "outputId": "2298917c-f656-4a1d-f976-af192f68541b"
            },
            "outputs": [
                {
                    "name": "stderr",
                    "output_type": "stream",
                    "text": [
                        "/usr/local/lib/python3.12/dist-packages/transformers/pipelines/text_classification.py:111: UserWarning: `return_all_scores` is now deprecated,  if want a similar functionality use `top_k=None` instead of `return_all_scores=True` or `top_k=1` instead of `return_all_scores=False`.\n",
                        "  warnings.warn(\n",
                        "You seem to be using the pipelines sequentially on GPU. In order to maximize efficiency please use a dataset\n"
                    ]
                },
                {
                    "name": "stdout",
                    "output_type": "stream",
                    "text": [
                        "----------------------------------------\n",
                        "Input Text: Samsung Galaxy Tab S9 Ultra with 14.6'' AMOLED Display and S Pen\n",
                        "\n",
                        "Top Prediction: Electronics (Confidence: 0.9980)\n",
                        "\n",
                        "All Predictions:\n",
                        "\n",
                        "  Electronics: 0.9980\n",
                        "  Books: 0.0011\n",
                        "  Household: 0.0008\n",
                        "  Clothing & Accessories: 0.0001\n",
                        "----------------------------------------\n",
                        "Input Text: Bose QuietComfort Ultra Earbuds – Noise Cancelling, Bluetooth\n",
                        "\n",
                        "Top Prediction: Electronics (Confidence: 0.9965)\n",
                        "\n",
                        "All Predictions:\n",
                        "\n",
                        "  Electronics: 0.9965\n",
                        "  Household: 0.0018\n",
                        "  Books: 0.0017\n",
                        "  Clothing & Accessories: 0.0001\n",
                        "----------------------------------------\n",
                        "Input Text: ASUS ROG Zephyrus Gaming Laptop – Ryzen 9, RTX 4070, 1TB SSD\n",
                        "\n",
                        "Top Prediction: Electronics (Confidence: 0.9973)\n",
                        "\n",
                        "All Predictions:\n",
                        "\n",
                        "  Electronics: 0.9973\n",
                        "  Books: 0.0016\n",
                        "  Household: 0.0011\n",
                        "  Clothing & Accessories: 0.0001\n",
                        "----------------------------------------\n",
                        "Input Text: iRobot Roomba i7+ Robot Vacuum with Automatic Dirt Disposal\n",
                        "\n",
                        "Top Prediction: Household (Confidence: 0.9989)\n",
                        "\n",
                        "All Predictions:\n",
                        "\n",
                        "  Household: 0.9989\n",
                        "  Electronics: 0.0009\n",
                        "  Books: 0.0002\n",
                        "  Clothing & Accessories: 0.0001\n",
                        "----------------------------------------\n",
                        "Input Text: Keurig K-Elite Single Serve Coffee Maker – Iced Coffee Option\n",
                        "\n",
                        "Top Prediction: Household (Confidence: 0.9993)\n",
                        "\n",
                        "All Predictions:\n",
                        "\n",
                        "  Household: 0.9993\n",
                        "  Electronics: 0.0006\n",
                        "  Books: 0.0001\n",
                        "  Clothing & Accessories: 0.0001\n",
                        "----------------------------------------\n",
                        "Input Text: Dyson Pure Cool Link Air Purifier and Fan – WiFi Enabled, HEPA Filter\n",
                        "\n",
                        "Top Prediction: Household (Confidence: 0.9923)\n",
                        "\n",
                        "All Predictions:\n",
                        "\n",
                        "  Household: 0.9923\n",
                        "  Electronics: 0.0064\n",
                        "  Books: 0.0012\n",
                        "  Clothing & Accessories: 0.0002\n",
                        "----------------------------------------\n",
                        "Input Text: Atomic Habits by James Clear – Build Good Habits & Break Bad Ones\n",
                        "\n",
                        "Top Prediction: Books (Confidence: 0.9998)\n",
                        "\n",
                        "All Predictions:\n",
                        "\n",
                        "  Books: 0.9998\n",
                        "  Household: 0.0001\n",
                        "  Electronics: 0.0001\n",
                        "  Clothing & Accessories: 0.0000\n",
                        "----------------------------------------\n",
                        "Input Text: The Hobbit by J.R.R. Tolkien – Illustrated Collector’s Edition\n",
                        "\n",
                        "Top Prediction: Books (Confidence: 0.9998)\n",
                        "\n",
                        "All Predictions:\n",
                        "\n",
                        "  Books: 0.9998\n",
                        "  Household: 0.0001\n",
                        "  Electronics: 0.0001\n",
                        "  Clothing & Accessories: 0.0000\n",
                        "----------------------------------------\n",
                        "Input Text: Introduction to Machine Learning with Python by Andreas C. Müller\n",
                        "\n",
                        "Top Prediction: Books (Confidence: 0.9999)\n",
                        "\n",
                        "All Predictions:\n",
                        "\n",
                        "  Books: 0.9999\n",
                        "  Household: 0.0001\n",
                        "  Electronics: 0.0000\n",
                        "  Clothing & Accessories: 0.0000\n",
                        "----------------------------------------\n",
                        "Input Text: Levi’s Men's 511 Slim Fit Jeans – Stretch Denim, Dark Indigo\n",
                        "\n",
                        "Top Prediction: Clothing & Accessories (Confidence: 0.9993)\n",
                        "\n",
                        "All Predictions:\n",
                        "\n",
                        "  Clothing & Accessories: 0.9993\n",
                        "  Household: 0.0004\n",
                        "  Books: 0.0002\n",
                        "  Electronics: 0.0000\n",
                        "----------------------------------------\n",
                        "Input Text: Nike Women's Dri-FIT Training T-Shirt – Lightweight & Breathable\n",
                        "\n",
                        "Top Prediction: Clothing & Accessories (Confidence: 0.9994)\n",
                        "\n",
                        "All Predictions:\n",
                        "\n",
                        "  Clothing & Accessories: 0.9994\n",
                        "  Household: 0.0003\n",
                        "  Books: 0.0002\n",
                        "  Electronics: 0.0000\n",
                        "----------------------------------------\n",
                        "Input Text: The North Face Men's Thermoball Eco Jacket – Insulated, Packable\n",
                        "\n",
                        "Top Prediction: Clothing & Accessories (Confidence: 0.9994)\n",
                        "\n",
                        "All Predictions:\n",
                        "\n",
                        "  Clothing & Accessories: 0.9994\n",
                        "  Books: 0.0003\n",
                        "  Household: 0.0003\n",
                        "  Electronics: 0.0000\n",
                        "----------------------------------------\n",
                        "Input Text: Ray-Ban RB2132 New Wayfarer Sunglasses – Polarized, Classic Black\n",
                        "\n",
                        "Top Prediction: Clothing & Accessories (Confidence: 0.9993)\n",
                        "\n",
                        "All Predictions:\n",
                        "\n",
                        "  Clothing & Accessories: 0.9993\n",
                        "  Books: 0.0004\n",
                        "  Household: 0.0003\n",
                        "  Electronics: 0.0000\n",
                        "----------------------------------------\n",
                        "Input Text: Fossil Women's Leather Wallet with RFID Blocking – Zipper Closure\n",
                        "\n",
                        "Top Prediction: Household (Confidence: 0.9939)\n",
                        "\n",
                        "All Predictions:\n",
                        "\n",
                        "  Household: 0.9939\n",
                        "  Books: 0.0039\n",
                        "  Electronics: 0.0019\n",
                        "  Clothing & Accessories: 0.0003\n",
                        "----------------------------------------\n",
                        "Input Text: Casio G-Shock Men's Sport Watch – Shock Resistant, Waterproof\n",
                        "\n",
                        "Top Prediction: Clothing & Accessories (Confidence: 0.9988)\n",
                        "\n",
                        "All Predictions:\n",
                        "\n",
                        "  Clothing & Accessories: 0.9988\n",
                        "  Books: 0.0007\n",
                        "  Household: 0.0004\n",
                        "  Electronics: 0.0001\n",
                        "----------------------------------------\n"
                    ]
                }
            ],
            "source": [
                "predictions_path = (PREDICTIONS_DIR / \"predictions_output.txt\")\n",
                "\n",
                "with open(predictions_path, \"w\", encoding = \"utf-8\") as f:\n",
                "\n",
                "    def save_predictions(text = \"\"):\n",
                "        print(text)\n",
                "        f.write(text + \"\n",
                "\")\n",
                "\n",
                "    save_predictions(\"-\" * 40)\n",
                "\n",
                "    for text in input_texts:\n",
                "        save_predictions(f\"Input Text: {text}\n",
                "\")\n",
                "        predictions = pipeline(text, return_all_scores = True)[0]\n",
                "        # Sort predictions by score descending\n",
                "        predictions = sorted(predictions, key = lambda x: x[\"score\"], reverse = True)\n",
                "        # Extract top prediction\n",
                "        top_pred = predictions[0]\n",
                "        save_predictions(f\"Top Prediction: {top_pred['label']} (Confidence: {top_pred['score']:.4f})\n",
                "\")\n",
                "        # All predictions\n",
                "        save_predictions(\"All Predictions:\n",
                "\")\n",
                "        for pred in predictions:\n",
                "            save_predictions(f\"  {pred['label']}: {pred['score']:.4f}\")\n",
                "        save_predictions(\"-\" * 40)"
            ]
        }
    ],
    "metadata": {
        "accelerator": "GPU",
        "colab": {
            "gpuType": "T4",
            "provenance": []
        },
        "kernelspec": {
            "display_name": "Python 3",
            "name": "python3"
        },
        "language_info": {
            "codemirror_mode": {
                "name": "ipython",
                "version": 3
            },
            "file_extension": ".py",
            "mimetype": "text/x-python",
            "name": "python",
            "nbconvert_exporter": "python",
            "pygments_lexer": "ipython3",
            "version": "3.10.2"
        }
    },
    "nbformat": 4,
    "nbformat_minor": 5
}
